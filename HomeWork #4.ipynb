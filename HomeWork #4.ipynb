{
 "cells": [
  {
   "cell_type": "markdown",
   "id": "d96a070d",
   "metadata": {},
   "source": [
    "# 4주차 스크립트 과제\n",
    "> 학번 : 2018136137   \n",
    "> 이름 : 한성현"
   ]
  },
  {
   "cell_type": "markdown",
   "id": "54f0d3d7",
   "metadata": {},
   "source": [
    "## 1. 다음 문제를 읽고 알맞은 코드를 제시하시오\n",
    "-----------\n",
    "* 1) 파일 s.txt 내의 다음 내용과 함께 아래 문제의 코드를 제시하시오   \n",
    "   > pig ham   \n",
    "   > cat dog   \n",
    "   > ham bird   \n",
    "   > dog pig   \n",
    "* 2) 파일 s.txt을 읽어서 각 라인에 있는 첫 번째 단어(문자열) 자체들을 기준으로 라인별 정렬후 파일 s1.txt에 그 결과를 기록하는 코드를 작성하시오. 즉, 프로그램 수행 후 s1.txt에 있는 파일 내용은 다음과 같다.   \n",
    "\n",
    "   > cat dog   \n",
    "   > dog pig   \n",
    "   > ham bird   \n",
    "   > pig ham   "
   ]
  },
  {
   "cell_type": "code",
   "execution_count": 174,
   "id": "ca97f9d9",
   "metadata": {},
   "outputs": [],
   "source": [
    "with open('s.txt','r') as fp:\n",
    "    l = fp.readlines()\n",
    "    flist = [i.split(' ') for i in l]\n",
    "    for j in range(len(flist)):\n",
    "        for k in range(len(flist)-1):\n",
    "            if flist[k][0] > flist[k+1][0]:\n",
    "                flist[k],flist[k+1] = flist[k+1],flist[k]\n",
    "    result = []\n",
    "    for i in flist:\n",
    "        s=' '.join(i)\n",
    "        result.append(s)\n",
    "\n",
    "    with open('s2.txt','w') as f:\n",
    "        f.writelines(result)"
   ]
  },
  {
   "cell_type": "code",
   "execution_count": 175,
   "id": "b82e4f37",
   "metadata": {},
   "outputs": [
    {
     "name": "stdout",
     "output_type": "stream",
     "text": [
      "cat dog\n",
      "\n",
      "dog pig\n",
      "\n",
      "ham bird\n",
      "\n",
      "pig ham\n",
      "\n"
     ]
    }
   ],
   "source": [
    "with open('s1.txt','r') as fp:\n",
    "    l = fp.readlines()\n",
    "    for i in l : print(i)"
   ]
  },
  {
   "cell_type": "markdown",
   "id": "2d5e6540",
   "metadata": {},
   "source": [
    "### 코드 설명\n",
    "s.txt 파일을 읽기 위해 with 구문을 통해 s.txt 파일을 'r' 모드로 파일을 open 했습니다.   \n",
    "그리고 각 줄의 첫 번째 단어를 비교하였고 만약 선행 라인의 첫 번째 단어가 후행 라인의 첫 번째 단어보다 더 크면 두 라인의 위치를 바꾸어 주었습니다.   "
   ]
  },
  {
   "cell_type": "markdown",
   "id": "90ab6c03",
   "metadata": {},
   "source": [
    "* 3) 파일 s.txt을 읽어서 각 라인에 있는 두 번째 단어(문자열) 자체들을 기준으로 라인별 정렬후 파일 s2.txt에 그 결과를 기록하는 코드를 작성하시오. 즉, 프로그램 수행 후 s2.txt에 있는 파일 내용은 다음과 같다.\n",
    ">ham bird   \n",
    "cat dog   \n",
    "pig ham   \n",
    "dog pig   "
   ]
  },
  {
   "cell_type": "code",
   "execution_count": 171,
   "id": "0cee3e6c",
   "metadata": {},
   "outputs": [],
   "source": [
    "with open('s.txt','r') as fp:\n",
    "    l = fp.readlines()\n",
    "    flist = [i.split(' ') for i in l]\n",
    "    for j in range(len(flist)):\n",
    "        for k in range(len(flist)-1):\n",
    "            if flist[k][1] > flist[k+1][1]:\n",
    "                flist[k],flist[k+1] = flist[k+1],flist[k]\n",
    "    result = []\n",
    "    for i in flist:\n",
    "        s=' '.join(i)\n",
    "        result.append(s)\n",
    "\n",
    "    with open('s2.txt','w') as f:\n",
    "        f.writelines(result)"
   ]
  },
  {
   "cell_type": "code",
   "execution_count": 172,
   "id": "adc6431e",
   "metadata": {},
   "outputs": [
    {
     "name": "stdout",
     "output_type": "stream",
     "text": [
      "ham bird\n",
      "\n",
      "cat dog\n",
      "\n",
      "pig ham\n",
      "\n",
      "dog pig\n",
      "\n"
     ]
    }
   ],
   "source": [
    "with open('s2.txt','r') as fp:\n",
    "    l = fp.readlines()\n",
    "    for i in l:\n",
    "        print(i)"
   ]
  },
  {
   "cell_type": "markdown",
   "id": "9ebc9004",
   "metadata": {},
   "source": [
    "### 코드 설명\n",
    "s.txt 파일을 읽기 위해 with 구문을 통해 s.txt 파일을 'r' 모드로 파일을 open 했습니다.   \n",
    "그리고 각 줄의 두 번째 단어를 비교하였고 만약 선행 라인의 두 번째 단어가 후행 라인의 두 번째 단어보다 더 크면 두 라인의 위치를 바꾸어 주었습니다.   "
   ]
  },
  {
   "cell_type": "markdown",
   "id": "b048e655",
   "metadata": {},
   "source": [
    "* 4) 파일 s.txt을 읽어서 각 라인들에 있는 모든 단어들을 순차적으로 다시 나열하되 각 라인에 세 개의 단어들이 오도록 하여 s3.txt에 기록하는 코드를 작성하시오. 즉, 프로그램 수행 후 s3.txt에 있는 파일 내용은 다음과 같다.\n",
    "\n",
    ">pig ham cat   \n",
    "dog ham bird   \n",
    "dog pig"
   ]
  },
  {
   "cell_type": "code",
   "execution_count": 12,
   "id": "720be688",
   "metadata": {},
   "outputs": [],
   "source": [
    "with open('s.txt', 'r') as fp:\n",
    "    l = fp.readlines()\n",
    "    newL = [j for i in l for j in i.split()]\n",
    "    for i in range(len(newL)):\n",
    "        if i % 3 == 2:\n",
    "            newL[i] += '\\n'\n",
    "        else:\n",
    "            newL[i] += ' '\n",
    "    with open('s3.txt', 'w') as f:\n",
    "        f.writelines(newL)"
   ]
  },
  {
   "cell_type": "code",
   "execution_count": 13,
   "id": "32e9ae3a",
   "metadata": {},
   "outputs": [
    {
     "name": "stdout",
     "output_type": "stream",
     "text": [
      "pig ham cat\n",
      "\n",
      "dog ham bird\n",
      "\n",
      "dog pig \n"
     ]
    }
   ],
   "source": [
    "with open('s3.txt','r') as fp:\n",
    "    l = fp.readlines()\n",
    "    for i in l : print(i)"
   ]
  },
  {
   "cell_type": "markdown",
   "id": "212f6901",
   "metadata": {},
   "source": [
    "### 코드 설명\n",
    "s.txt 파일을 읽기 위해 with 구문을 통해 s.txt 파일을 'r' 모드로 파일을 open 했습니다.   \n",
    "그리고 각 줄의 단어들을 구분하기 위해 split() 함수를 통해 띄어쓰기로 단어를 구분했습니다.    \n",
    "그리고 3번째 단어마다 마지막에 줄바꿈 문자를 넣어줌으로써 한 라인에 3단어씩 있도록 했습니다."
   ]
  },
  {
   "cell_type": "markdown",
   "id": "328888d3",
   "metadata": {},
   "source": [
    "## 2. 다음과 같은 조건들을 참고하여 회원 가입 및 로그인 프로그램을 작성하시오.\n",
    "-----------------\n",
    "* 1) 프로그램 시작 후 다음과 같은 메시지가 출력되어 1, 2, 3 중 하나의 값을 입력 받도록 한다.\n",
    "> Welcome to Our Service\n",
    ">   \n",
    "> A. Sign Up   \n",
    "> B. Sign In    \n",
    "> C. Quit   \n",
    "* 2) 1을 선택하면 ID, Password, Name, School의 4가지 정보를 입력받아 파일에 저장하는 프로그램을 작성한다.\n",
    "   * 2-1) 입력된 내용은 access.txt 라는 이름의 텍스트 파일 내에 저장된다.\n",
    "   * 2-2) access.txt 파일의 각 라인에는 가입된 회원 각각의 정보가 \"[id]: [password], [name], [school]\" 형태로 저장된다.\n",
    "   * 2-3) 즉, 가입 회원이 10명이면 access.txt 파일 내에 라인 수도 정확히 10개이다.\n",
    "   * 2-4) 암호화 방식은 sha 모듈을 활용한다. sha 모듈 활용 방법은 본 문제의 마지막에 제시된 sha 활용 예를 참고한다.\n",
    "      * 즉, access.txt 파일 내에 password 정보는 암호화 되어 저장되어야 한다.\n",
    "   * 2-5) 회원 정보를 입력 받을 때 id를 입력 받은 직후 access.txt를 확인하여 이미 존재하는 id가 입력되었다면 다음 메시지를 출력하고 id 정보를 다시 입력받는다.\n",
    "      * Sorry, the entered ID is already used.   \n",
    "* 3) 2를 선택하면 ID, Password의 2가지 정보를 입력받는 프로그램을 작성한다.\n",
    "   * 3-1) 입력된 ID 정보가 access.txt에 존재하지 않으면 다음과 같은 메시지를 출력하고 다시 입력받는다.\n",
    "      * Sorry, you are not a registered member.\n",
    "   * 3-2) 입력된 ID가 올바르게 존재하지만 Password 정보가 access.txt 파일에 있는 정보와 불일치하면 다음과 같은 메시지를 출력하고 Password를 다시 입력받는다.\n",
    "      * Sorry, the entered password is not correct.\n",
    "      * 이 때에도 사용자가 입력한 Password 정보와 함께 sha 모듈이 활용되어야 한다.\n",
    "   * 3-3) 입력된 ID와 Password가 모두 올바르면 다음과 같은 메시지를 출력한다.\n",
    "      * Hello [name]!\n",
    "      * 위 [name]에는 access.txt에 기록되어 있는 name 정보를 출력한다.\n",
    "* 4) 3을 선택하면 프로그램이 끝난다."
   ]
  },
  {
   "cell_type": "code",
   "execution_count": null,
   "id": "0aad02f9",
   "metadata": {},
   "outputs": [],
   "source": [
    "import hashlib\n",
    "\n",
    "while True:\n",
    "    print('Welcome to Our Service')\n",
    "    print('A. Sign Up')\n",
    "    print('B. Sign In')\n",
    "    print('C. Quit')\n",
    "\n",
    "    menu = input('>>')\n",
    "\n",
    "    if menu[0] == '3':\n",
    "        break\n",
    "    elif menu[0] == '1':\n",
    "        l = []\n",
    "        try:\n",
    "            with open('access.txt', 'r') as fp:\n",
    "                l = fp.readlines()\n",
    "        except FileNotFoundError:\n",
    "            pass\n",
    "        while True:\n",
    "            id = input('id >> ')\n",
    "            idList = [i[1:i.find(']')] for i in l]\n",
    "            if not(id in idList):\n",
    "                break\n",
    "        pw = input('pw >> ')\n",
    "        pw_encrypted = hashlib.sha256(pw.encode()).hexdigest()\n",
    "        name = input('name >> ')\n",
    "        school = input('school >> ')\n",
    "        context = '[{}]:[{}],[{}],[{}]\\n'.format(id, pw_encrypted, name, school)\n",
    "        print()\n",
    "        with open('access.txt','a') as fp:\n",
    "            fp.writelines(context)\n",
    "\n",
    "    elif menu[0] == '2':\n",
    "        try:\n",
    "            l = []\n",
    "            with open('access.txt','r') as fp:\n",
    "                l = [i.replace('[','').replace(']','').split(',') for i in fp.readlines()]\n",
    "            user = [i[0].split(':') for i in l]\n",
    "            chk = False\n",
    "            while True:  # id 입력 반복\n",
    "                id = input(\"id >> \")\n",
    "                for i in range(len(user)):  # id 조회 반복\n",
    "                    if user[i][0] == id:\n",
    "                        chk = True\n",
    "                        while True:  # pw 입력 반복\n",
    "                            pw = input('pw >> ')\n",
    "                            pw_encrypted = hashlib.sha256(pw.encode()).hexdigest()\n",
    "                            if pw_encrypted == user[i][1]:\n",
    "                                print('Hello [{}]!'.format(l[i][1]))\n",
    "                                print()\n",
    "                                break  # pw 입력 반복 종료\n",
    "                            else:\n",
    "                                print('Sorry, the entered password is not correct.')\n",
    "                        break  # id 조회 반복 종료\n",
    "                        \n",
    "                if not chk:\n",
    "                    print(\"Sorry, you are not a registered member.\\n\")\n",
    "                else:\n",
    "                    break  # id 입력 반복 종료\n",
    "\n",
    "        except FileNotFoundError:\n",
    "            print(\"Sorry, you are not a registered member.\\n\")\n",
    "\n",
    "print('프로그램 종료...')"
   ]
  },
  {
   "cell_type": "markdown",
   "id": "c2ce89c2",
   "metadata": {},
   "source": [
    "### 코드 설명\n",
    "3을 선택하여 프로그램을 종료해야 함으로 코드를 while True로 감싼 후 menu 선택 시 3을 입력받으면 break되어 프로그램이 종료됩니다.   \n",
    "그리고 메뉴 1을 선택하면 user의 정보가 저장되어 있는 access.txt 파일을 읽어 옵니다. 이때 파일이 없으면 그냥 넘어갑니다.   \n",
    "id를 입력할 때 해당 아이디가 중복이 되는지 확인 합니다. 만약 id가 존재한다면 id를 재입력받게 하고,    \n",
    "없으면 비밀번호를 입력받은 후 sha256으로 암호화 하고, 이름, 학교를 입력 받고 정해진 형식으로 access.txt에 저장을 합니다.    \n",
    "마지막으로 메뉴 2를 선택하면 access.txt에서 모든 유저의 정보를 불러옵니다. 이때 파일이 없으면 경고를 띄웁니다.    \n",
    "파일에서 user의 정보를 불러올 때 필요없는 대괄호를 없애줍니다.    \n",
    "그리고 user의 아이디와 비밀번호만을 따로 저장할 user 리스트를 만들어줍니다. 그리고 로그인 시 사용자에게서 id를 입력받습니다.   \n",
    "입력받은 id가 user 리스트에 존재하면 비밀번호를 입력받고 틀리면 id를 재입력받습니다.   \n",
    "이때 틀리면 다시 받아야함으로 while문으로 입력 부분을 감싸줍니다.    \n",
    "그리고 입력받은 비밀번호를 sha256으로 암호화 한 후 access.txt에 있는 비밀번호와 비교하여 맞으면 이름을 출력하고    \n",
    "틀리면 비밀번호를 재입력 합니다."
   ]
  },
  {
   "cell_type": "markdown",
   "id": "beb3f7b5",
   "metadata": {},
   "source": [
    "## 3.range() 함수와 유사한 frange() 함수를 다음 조건을 참고하여 만드시오.\n",
    "------------------------------------\n",
    "\n",
    "* 1) frange()의 인자 구성은 다음과 같이 range와 동일하지만 각 인수들은 음수를 받지 않는다고 가정한다.\n",
    "   >range(stop)     \n",
    "   >range(start, stop[, step])   \n",
    "\n",
    "* 2) frange() 함수의 인자에 대한 기본 시작(start) 값은 0.0이고, 기본 단계(step) 값은 0.1이다.\n",
    "* 3) frange 사용 예\n",
    "   * 3-1) frange(0.5)   \n",
    "      * [0.0, 0.1, 0.2, 0.3, 0.4]\n",
    "   * 3-2) frange(1.0, 2.0)\n",
    "      * [1.0, 1.1, 1.2, 1.3, 1.4, 1.5, 1.6, 1.7, 1.8, 1.9]\n",
    "   * 3-3) frange(2.2, 4.0, 0.5)\n",
    "      * [2.2, 2.7, 3.2, 3.7]"
   ]
  },
  {
   "cell_type": "code",
   "execution_count": 4,
   "id": "52676794",
   "metadata": {},
   "outputs": [],
   "source": [
    "def frange(start, stop = -1.0, step = 0.1):\n",
    "    if start < 0:\n",
    "        raise IndexError(\"잘못된 인덱스 입니다.\")\n",
    "    elif stop == -1: # frange(stop)\n",
    "        fractional = len(str(start)) - str(start).find('.') - 1\n",
    "        stop = start + step if fractional > 1 else start\n",
    "        start = 0.0\n",
    "        result = [round(start + i * step,fractional) for i in range(int(stop*10))]\n",
    "\n",
    "    else:\n",
    "        fractionalStart = len(str(start)) - str(start).find('.') - 1\n",
    "        fractionalStep = len(str(step)) - str(step).find('.') - 1\n",
    "        fractional = max(fractionalStep,fractionalStart)\n",
    "        result = [round(start + i * step, fractional) for i in range(int((stop-start) * (10**fractionalStep))+1) if round(start + i * step, fractional) < stop]\n",
    "\n",
    "    return result"
   ]
  },
  {
   "cell_type": "code",
   "execution_count": 19,
   "id": "0267b10e",
   "metadata": {},
   "outputs": [
    {
     "name": "stdout",
     "output_type": "stream",
     "text": [
      "[0.0, 0.1, 0.2, 0.3, 0.4]\n",
      "[1.0, 1.1, 1.2, 1.3, 1.4, 1.5, 1.6, 1.7, 1.8, 1.9]\n",
      "[2.2, 2.7, 3.2, 3.7]\n",
      "\n",
      "[0.0, 0.1, 0.2, 0.3, 0.4, 0.5]\n",
      "[1.04, 1.14, 1.24, 1.34, 1.44, 1.54, 1.64, 1.74, 1.84, 1.94]\n",
      "[2.2, 2.25, 2.3, 2.35, 2.4, 2.45, 2.5, 2.55, 2.6, 2.65, 2.7, 2.75, 2.8, 2.85, 2.9, 2.95, 3.0, 3.05, 3.1, 3.15, 3.2, 3.25, 3.3, 3.35, 3.4, 3.45, 3.5, 3.55, 3.6, 3.65, 3.7, 3.75, 3.8, 3.85, 3.9, 3.95]\n"
     ]
    },
    {
     "ename": "IndexError",
     "evalue": "잘못된 인덱스 입니다.",
     "output_type": "error",
     "traceback": [
      "\u001b[1;31m---------------------------------------------------------------------------\u001b[0m",
      "\u001b[1;31mIndexError\u001b[0m                                Traceback (most recent call last)",
      "\u001b[1;32m<ipython-input-19-e66ad9618426>\u001b[0m in \u001b[0;36m<module>\u001b[1;34m\u001b[0m\n\u001b[0;32m      8\u001b[0m \u001b[0mprint\u001b[0m\u001b[1;33m(\u001b[0m\u001b[0mfrange\u001b[0m\u001b[1;33m(\u001b[0m\u001b[1;36m1.04\u001b[0m\u001b[1;33m,\u001b[0m\u001b[1;36m2.01\u001b[0m\u001b[1;33m)\u001b[0m\u001b[1;33m)\u001b[0m\u001b[1;33m\u001b[0m\u001b[1;33m\u001b[0m\u001b[0m\n\u001b[0;32m      9\u001b[0m \u001b[0mprint\u001b[0m\u001b[1;33m(\u001b[0m\u001b[0mfrange\u001b[0m\u001b[1;33m(\u001b[0m\u001b[1;36m2.2\u001b[0m\u001b[1;33m,\u001b[0m\u001b[1;36m4.0\u001b[0m\u001b[1;33m,\u001b[0m\u001b[1;36m0.05\u001b[0m\u001b[1;33m)\u001b[0m\u001b[1;33m)\u001b[0m\u001b[1;33m\u001b[0m\u001b[1;33m\u001b[0m\u001b[0m\n\u001b[1;32m---> 10\u001b[1;33m \u001b[0mprint\u001b[0m\u001b[1;33m(\u001b[0m\u001b[0mfrange\u001b[0m\u001b[1;33m(\u001b[0m\u001b[1;33m-\u001b[0m\u001b[1;36m1\u001b[0m\u001b[1;33m)\u001b[0m\u001b[1;33m)\u001b[0m\u001b[1;33m\u001b[0m\u001b[1;33m\u001b[0m\u001b[0m\n\u001b[0m",
      "\u001b[1;32m<ipython-input-4-061c63c07deb>\u001b[0m in \u001b[0;36mfrange\u001b[1;34m(start, stop, step)\u001b[0m\n\u001b[0;32m      1\u001b[0m \u001b[1;32mdef\u001b[0m \u001b[0mfrange\u001b[0m\u001b[1;33m(\u001b[0m\u001b[0mstart\u001b[0m\u001b[1;33m,\u001b[0m \u001b[0mstop\u001b[0m \u001b[1;33m=\u001b[0m \u001b[1;33m-\u001b[0m\u001b[1;36m1.0\u001b[0m\u001b[1;33m,\u001b[0m \u001b[0mstep\u001b[0m \u001b[1;33m=\u001b[0m \u001b[1;36m0.1\u001b[0m\u001b[1;33m)\u001b[0m\u001b[1;33m:\u001b[0m\u001b[1;33m\u001b[0m\u001b[1;33m\u001b[0m\u001b[0m\n\u001b[0;32m      2\u001b[0m     \u001b[1;32mif\u001b[0m \u001b[0mstart\u001b[0m \u001b[1;33m<\u001b[0m \u001b[1;36m0\u001b[0m\u001b[1;33m:\u001b[0m\u001b[1;33m\u001b[0m\u001b[1;33m\u001b[0m\u001b[0m\n\u001b[1;32m----> 3\u001b[1;33m         \u001b[1;32mraise\u001b[0m \u001b[0mIndexError\u001b[0m\u001b[1;33m(\u001b[0m\u001b[1;34m\"잘못된 인덱스 입니다.\"\u001b[0m\u001b[1;33m)\u001b[0m\u001b[1;33m\u001b[0m\u001b[1;33m\u001b[0m\u001b[0m\n\u001b[0m\u001b[0;32m      4\u001b[0m     \u001b[1;32melif\u001b[0m \u001b[0mstop\u001b[0m \u001b[1;33m==\u001b[0m \u001b[1;33m-\u001b[0m\u001b[1;36m1\u001b[0m\u001b[1;33m:\u001b[0m \u001b[1;31m# frange(stop)\u001b[0m\u001b[1;33m\u001b[0m\u001b[1;33m\u001b[0m\u001b[0m\n\u001b[0;32m      5\u001b[0m         \u001b[0mfractional\u001b[0m \u001b[1;33m=\u001b[0m \u001b[0mlen\u001b[0m\u001b[1;33m(\u001b[0m\u001b[0mstr\u001b[0m\u001b[1;33m(\u001b[0m\u001b[0mstart\u001b[0m\u001b[1;33m)\u001b[0m\u001b[1;33m)\u001b[0m \u001b[1;33m-\u001b[0m \u001b[0mstr\u001b[0m\u001b[1;33m(\u001b[0m\u001b[0mstart\u001b[0m\u001b[1;33m)\u001b[0m\u001b[1;33m.\u001b[0m\u001b[0mfind\u001b[0m\u001b[1;33m(\u001b[0m\u001b[1;34m'.'\u001b[0m\u001b[1;33m)\u001b[0m \u001b[1;33m-\u001b[0m \u001b[1;36m1\u001b[0m\u001b[1;33m\u001b[0m\u001b[1;33m\u001b[0m\u001b[0m\n",
      "\u001b[1;31mIndexError\u001b[0m: 잘못된 인덱스 입니다."
     ]
    }
   ],
   "source": [
    "print(frange(0.5))\n",
    "print(frange(1.0, 2.0))\n",
    "print(frange(2.2, 4.0, 0.5))\n",
    "\n",
    "print()\n",
    "# 추가 테스트 케이스\n",
    "print(frange(0.51))\n",
    "print(frange(1.04,2.01))\n",
    "print(frange(2.2,4.0,0.05))\n",
    "print(frange(-1))"
   ]
  },
  {
   "cell_type": "markdown",
   "id": "729484a1",
   "metadata": {},
   "source": [
    "### 코드 설명\n",
    "1. 만약 사용자가 frange에 음수를 넣었을 경우 IndexError를 발생시켰습니다.   \n",
    "2. 만약 사용자가 인수 하나만 넣었을 경우 start 인수로 입력 받은 값의 소수부분의 길이를 구하여 fractional 변수에 저장합니다. 그리고 stop 변수에 start 인자 값을 넣어줄 때 만약 fractional 값이 1보다 크면 (소숫점 아래 둘째자리 이상일 경우) stop변수에 start 인자 값을 넣어줄 때 +0.1을 하여 넣어줍니다. 그 외의 경우는 그냥 start 값을 넣어줍니다. 그리고 리스트 내포를 사용하여 0부터 stop*10-1 값 까지 반복한 후 start + step * i값을 계산하여 result 리스트에 저장합니다.   \n",
    "3. 만약 사용자가 인수 두 개 이상을 넣은 경우 start값의 소숫점 아랫부분의 길이를 구하고, step값의 소숫점 아랫부분의 길이를 구하여 더 큰 값을 찾아줍니다. 그리고 리스트 내포방식을 이용하여 stop에서 start를 뺀 값에 10** fractionalStep값을 곱한 값 만큼 반복을 해줍니다. 이때 만약 start+step * i 값이 stop보다 작아야만 result 리스트에 값을 넣어줍니다.   \n",
    "4. 그리고 result 값을 반환합니다."
   ]
  },
  {
   "cell_type": "markdown",
   "id": "02c5530d",
   "metadata": {},
   "source": [
    "## 4. 가변인수를 받는 함수 sum()을 다음과 같은 조건을 참고하여 구현하시오\n",
    "--------------------------------------------\n",
    "* sum() 사용 예\n",
    "   > sum()   \n",
    "   > 0   \n",
    "   >    \n",
    "   > sum(1, 2)   \n",
    "   > 3   \n",
    "   >   \n",
    "   > sum(1, 2, 3, 4, 5)   \n",
    "   > 15    \n",
    "   > \n",
    "   > sum(1, 5, 7, 2, -10)   \n",
    "   > 5   "
   ]
  },
  {
   "cell_type": "code",
   "execution_count": 21,
   "id": "a6aef0d0",
   "metadata": {},
   "outputs": [],
   "source": [
    "def sum(*args):\n",
    "    total = 0\n",
    "    for i in args: total += i\n",
    "    return total"
   ]
  },
  {
   "cell_type": "code",
   "execution_count": 23,
   "id": "f0211858",
   "metadata": {},
   "outputs": [
    {
     "name": "stdout",
     "output_type": "stream",
     "text": [
      "0\n",
      "3\n",
      "15\n",
      "5\n"
     ]
    }
   ],
   "source": [
    "print(sum())\n",
    "print(sum(1,2))\n",
    "print(sum(1,2,3,4,5))\n",
    "print(sum(1,5,7,2,-10))"
   ]
  },
  {
   "cell_type": "markdown",
   "id": "7a9b903e",
   "metadata": {},
   "source": [
    "### 코드 설명\n",
    "가변인수를 받을 수 있도록 sum함수의 인수를 받는 부분에 * args를 넣어 가변 인수를 받도록 했습니다.   \n",
    "그리고 args는 튜플 형식임으로 반복문을 사용하여 args에 있는 요소들을 하나씩 꺼내온 후 total 변수에 하나씩 더해줍니다.   \n",
    "마지막으로 total 값을 반환해주었습니다."
   ]
  },
  {
   "cell_type": "markdown",
   "id": "b0af85ee",
   "metadata": {},
   "source": [
    "## 5. 여러 단어로 이루어진 문자열을 입력받아 각 단어의 첫글자로 이루어진 단어를 대문자로 출력하는 myinitial() 함수를 다음 조건을 참고하여 작성하시오.\n",
    "------------------------------\n",
    "* 1) 다음에 제시되는 함수들을 모두 이용해야 한다.\n",
    "\n",
    "    * split\n",
    "    * map\n",
    "    * join\n",
    "* 2) myinitial() 함수 사용 예\n",
    "\n",
    "    * myinitial(\"as soon as possible\")\n",
    "        * ASAP"
   ]
  },
  {
   "cell_type": "code",
   "execution_count": 24,
   "id": "c6110aaa",
   "metadata": {},
   "outputs": [],
   "source": [
    "def myinitial(s:str):\n",
    "    sList = [i[0] for i in s.split(' ')]\n",
    "    alphaMap = map(lambda s: s.upper(),sList)\n",
    "    result = ''.join(alphaMap)\n",
    "    print(result)"
   ]
  },
  {
   "cell_type": "code",
   "execution_count": 25,
   "id": "2fefaa00",
   "metadata": {},
   "outputs": [
    {
     "name": "stdout",
     "output_type": "stream",
     "text": [
      "ASAP\n",
      "LEM\n"
     ]
    }
   ],
   "source": [
    "myinitial('as soon as possible')\n",
    "myinitial('little everyday manners')"
   ]
  },
  {
   "cell_type": "markdown",
   "id": "11f73724",
   "metadata": {},
   "source": [
    "### 코드 설명\n",
    "인수로 받은 s에 대해 리스트 내포 방식을 이용하여 s를 띄어쓰기 단위로 나눈 요소들의 첫 글자를 sList에 저장합니다.   \n",
    "그리고 map을 사용하여 첫번째 인수에 람다 함수를 활용하여 리스트로 부터 받은 문자를 upper 해주었고, 두 번째 인수에는 sList를 넣어주었고 처리 결과를 alphaMap 변수에 저장했습니다.\n",
    "그리고 공백문자에 alphaMap을 join하여 str 형으로 바꾸어 준 후 출력했습니다."
   ]
  },
  {
   "cell_type": "markdown",
   "id": "0c1565f3",
   "metadata": {},
   "source": [
    "## 6. 음이 아닌 정수 n를 입력받으면 n! (factorial)을 계산하는 myfact() 함수를 재귀적 함수로 구현하시오.\n",
    "---------------------------------\n",
    "   * [옵션] 참을 수 있는 정도 만큼의 수행시간을 직접 기다려보면서 n을 늘려보도록 합시다."
   ]
  },
  {
   "cell_type": "code",
   "execution_count": 27,
   "id": "f8466c3f",
   "metadata": {},
   "outputs": [],
   "source": [
    "def myfact(n=0):\n",
    "    if n < 0:\n",
    "        raise RuntimeError(\"음수 값 입력\")\n",
    "    elif n == 1 or n == 0:\n",
    "        return 1\n",
    "    else:\n",
    "        return myfact(n - 1) * n"
   ]
  },
  {
   "cell_type": "code",
   "execution_count": 28,
   "id": "e056c9b0",
   "metadata": {},
   "outputs": [
    {
     "name": "stdout",
     "output_type": "stream",
     "text": [
      "10! = 3628800 , 시간 : 0.0\n",
      "100! = 93326215443944152681699238856266700490715968264381621468592963895217599993229915608941463976156518286253697920827223758251185210916864000000000000000000000000 , 시간 : 0.00095367431640625\n",
      "1000! = 402387260077093773543702433923003985719374864210714632543799910429938512398629020592044208486969404800479988610197196058631666872994808558901323829669944590997424504087073759918823627727188732519779505950995276120874975462497043601418278094646496291056393887437886487337119181045825783647849977012476632889835955735432513185323958463075557409114262417474349347553428646576611667797396668820291207379143853719588249808126867838374559731746136085379534524221586593201928090878297308431392844403281231558611036976801357304216168747609675871348312025478589320767169132448426236131412508780208000261683151027341827977704784635868170164365024153691398281264810213092761244896359928705114964975419909342221566832572080821333186116811553615836546984046708975602900950537616475847728421889679646244945160765353408198901385442487984959953319101723355556602139450399736280750137837615307127761926849034352625200015888535147331611702103968175921510907788019393178114194545257223865541461062892187960223838971476088506276862967146674697562911234082439208160153780889893964518263243671616762179168909779911903754031274622289988005195444414282012187361745992642956581746628302955570299024324153181617210465832036786906117260158783520751516284225540265170483304226143974286933061690897968482590125458327168226458066526769958652682272807075781391858178889652208164348344825993266043367660176999612831860788386150279465955131156552036093988180612138558600301435694527224206344631797460594682573103790084024432438465657245014402821885252470935190620929023136493273497565513958720559654228749774011413346962715422845862377387538230483865688976461927383814900140767310446640259899490222221765904339901886018566526485061799702356193897017860040811889729918311021171229845901641921068884387121855646124960798722908519296819372388642614839657382291123125024186649353143970137428531926649875337218940694281434118520158014123344828015051399694290153483077644569099073152433278288269864602789864321139083506217095002597389863554277196742822248757586765752344220207573630569498825087968928162753848863396909959826280956121450994871701244516461260379029309120889086942028510640182154399457156805941872748998094254742173582401063677404595741785160829230135358081840096996372524230560855903700624271243416909004153690105933983835777939410970027753472000000000000000000000000000000000000000000000000000000000000000000000000000000000000000000000000000000000000000000000000000000000000000000000000000000000000000000000000000000000000000000000000000000000000000000000000000000000000000000000000000000000 , 시간 : 0.0010569095611572266\n"
     ]
    }
   ],
   "source": [
    "import time\n",
    "\n",
    "start = time.time()\n",
    "r10 = myfact(10)\n",
    "end = time.time()\n",
    "print('10! = {} , 시간 : {}'.format(r10,end-start))\n",
    "\n",
    "start = time.time()\n",
    "r100 = myfact(100)\n",
    "end = time.time()\n",
    "print('100! = {} , 시간 : {}'.format(r100,end-start))\n",
    "\n",
    "start = time.time()\n",
    "r1000 = myfact(1000)\n",
    "end = time.time()\n",
    "print('1000! = {} , 시간 : {}'.format(r1000,end-start))"
   ]
  },
  {
   "cell_type": "markdown",
   "id": "590e4783",
   "metadata": {},
   "source": [
    "### 코드 설명\n",
    "1. 만약 myfact()함수에 사용자가 음수를 넣게 되면 RuntimeError를 발생시킵니다.\n",
    "2. 만약 n값이 1 또는 0 일 경우 1값을 반환합니다.\n",
    "3. 그 외의 경우에는 재귀함수를 이용하여 현재 n 값에 myfact(n-1) 값을 곱했습니다."
   ]
  },
  {
   "cell_type": "markdown",
   "id": "8c2ecb87",
   "metadata": {},
   "source": [
    "## 7. (서술형) import string 과 from string import * 의 차이점을 설명하시오.\n",
    "--------------------------\n",
    "1. import string은 string은 모듈을 namespace로 가져옵니다. 이때 as 를 사용하여 별칭을 붙일 수 있습니다. 만약 import string을 할 경우 string 모듈을 사용할 경우 string.punctuation과 같은 방식으로 사용해야 합니다.   \n",
    "2. from string import *는 string 모듈속에 있는 public한 속성 및 함수들을 모두 현재 namespace에 가져옵니다. \n",
    "   만약 from string import * 를 사용한 경우 punctiuation 과 같이 바로 사용할 수 있습니다."
   ]
  },
  {
   "cell_type": "code",
   "execution_count": 14,
   "id": "485e6e45",
   "metadata": {},
   "outputs": [
    {
     "name": "stdout",
     "output_type": "stream",
     "text": [
      "!\"#$%&'()*+,-./:;<=>?@[\\]^_`{|}~\n"
     ]
    }
   ],
   "source": [
    "import string\n",
    "print(string.punctuation)"
   ]
  },
  {
   "cell_type": "code",
   "execution_count": 15,
   "id": "46a87a26",
   "metadata": {},
   "outputs": [
    {
     "name": "stdout",
     "output_type": "stream",
     "text": [
      "!\"#$%&'()*+,-./:;<=>?@[\\]^_`{|}~\n"
     ]
    }
   ],
   "source": [
    "from string import *\n",
    "print(punctuation)"
   ]
  },
  {
   "cell_type": "markdown",
   "id": "dd8c101d",
   "metadata": {},
   "source": [
    "## [Incremental Project 문제]\n",
    "#### 이전 Assignment 3의 마지막 문제는 웹 URL로 지정된 웹페이지를 문자열로 가져와 모든 HTML 태그 및 CSS와 Javascript를 제외한 순수 텍스트를 얻어내고 그 안에 존재하는 단어를 추출하여 각 단어들에 대해 출현빈도를 사전형태({'world': 2, 'hello': 1, 'python': 1})로 저장하여 출력하는 것이었다. 이번에는 Assignment 3를 확장하여 다음과 같은 조건을 만족하도록 구현하시오.\n",
    "* 1) 다음 사이트에서 제시되는 불용어 (Stop words)를 참고하여 이전 숙제에서 구성했던 단어 사전에서 불용어들을 모두 제거하는 코드를 추가하시오.\n",
    "    * 영어 불용어: https://countwordsfree.com/stopwords\n",
    "        * 화면 상단 오른쪽 txt 파일 다운 받아 활용\n",
    "    * 한글 불용어: https://raw.githubusercontent.com/stopwords-iso/stopwords-ko/master/stopwords-ko.txt\n",
    "* 2) 각 URL로 지정된 웹페이지의 HTML 소스를 파일로 저장하시오.\n",
    "    * URL이 http://URL 이라면 파일명은 URL.html 이다.\n",
    "        * 예: URL이 http://www.cnn.com 이라면 파일명은 www.cnn.com.html 이다.\n",
    "* 3) 단어의 출현빈도가 담긴 사전 객체를 위 HTML 소스 파일과 동일한 폴더에 파일로 저장하시오.\n",
    "    * 파일입출력 (E-learning 13주차) 마지막에 학습한 pickle 모듈을 활용하시오.\n",
    "    * URL이 http://URL 이라면 사전 객체를 담고 있는 파일명은 URL.words_frequency.pickle 이다.\n",
    "        * 예: URL이 http://www.cnn.com 이라면 파일명은 www.cnn.com.words_frequency.pickle 이다.\n",
    "* 4) 최소 5개 이상의 웹 사이트 각각에 대한 HTML 소스 파일과 단어 출현빈도 파일을 저장하시오.\n",
    "    * 즉, 5개의 웹 사이트에 대해 총 10개의 파일을 동일한 폴더에 생성하시오.\n",
    "    * [주의] 가능하면 웹사이트에 단어들이 많고 다루는 주제가 서로 다른 웹 사이트들로 선정하는 것 추천\n",
    "* 5) 위 문제에서 저장한 모든 pickle 파일들을 객체로 다시 로드하여 본인이 저장하여 분석한 사이트들 각각에 대해서 가장 많이 출현한 단어 3개씩를 뽑아 제시하시오.\n",
    "    * 반드시 pickle 모듈로 저장한 5개 이상의 pickle 파일들을 다시 5개 이상의 사전 객체로 로드 하는 코드가 추가되어야 함\n",
    "* 6) 간단한 검색엔진 코딩 (Like Google!!!)\n",
    "    * 사용자에게 임의의 검색어 (하나 또는 여러 단어로 구성) 를 입력받으시오.\n",
    "        * 예:\n",
    "        > 대한민국   \n",
    "        > 컴퓨터 공학   \n",
    "        > 맛있는 음식   \n",
    "        > 파이썬   \n",
    "        > 한기대 장점   \n",
    "    * 입력받은 검색어들에 대해서도 1)에서 제시하는 방법처럼 불용어 처리를 하여 정리\n",
    "    * 입력 받은 검색어와 유사도(Similarity)가 높은 웹 사이트 기준으로 위 4)에서 미리 지정해 놓은 5개 이상의 웹 사이트 URL들을 일렬로 나열하여 출력하시오.\n",
    "        * 검색어와 웹 사이트 간의 유사도는 본인이 스스로 정하시오.\n",
    "        * 유사도를 정하는 최소한의 기준은 단어 출현 빈도를 기반으로 해야 하며, 이외의 본인이 생각하는 방안이 있으면 함께 사용해도 됨.\n",
    "        * 유사도가 높은 웹 사이트가 상위에 출력되어야 함 (즉, 유사도 기준 내림 차순)\n",
    "        * 유사도가 동일한 웹 사이트들에 대해서는 임의 배치함.\n",
    "* 7) [주의] 필수사항\n",
    "    * 위에서 만든 검색엔진 코딩은 매우 간단한 것이라 부족한 점이 많이 존재한다.\n",
    "    * 본인이 생각하기에 상업적인 완성도 높은 검색 로봇/엔진이 되려면 어떤 기능들이 추가적으로 구현되어야 할지 최소 1가지 이상 제시하시오."
   ]
  },
  {
   "cell_type": "code",
   "execution_count": 185,
   "id": "17a4b931",
   "metadata": {},
   "outputs": [
    {
     "name": "stdout",
     "output_type": "stream",
     "text": [
      "https://www.koreatech.ac.kr 상위 3개 단어\n",
      "('한국기술교육대학교', 13)\n",
      "('대학', 9)\n",
      "('KOREATECH', 8)\n",
      "\n",
      "https://www.acmicpc.net 상위 3개 단어\n",
      "('문제', 30)\n",
      "('대회', 8)\n",
      "('채점', 7)\n",
      "\n",
      "https://stackoverflow.com 상위 3개 단어\n",
      "('Stack', 25)\n",
      "('Teams', 24)\n",
      "('Overflow', 20)\n",
      "\n",
      "https://www.naver.com 상위 3개 단어\n",
      "('디자인', 69)\n",
      "('전', 62)\n",
      "('구독', 26)\n",
      "\n",
      "https://maplestory.nexon.com 상위 3개 단어\n",
      "('오후', 10)\n",
      "('목', 8)\n",
      "('메이플', 8)\n",
      "\n",
      "검색어 입력>> 메이플\n",
      "['https://maplestory.nexon.com', 'https://www.koreatech.ac.kr', 'https://www.acmicpc.net', 'https://stackoverflow.com', 'https://www.naver.com']\n",
      "검색어 입력>> 대학\n",
      "['https://www.koreatech.ac.kr', 'https://www.acmicpc.net', 'https://stackoverflow.com', 'https://www.naver.com', 'https://maplestory.nexon.com']\n",
      "검색어 입력>> Stack\n",
      "['https://stackoverflow.com', 'https://www.koreatech.ac.kr', 'https://www.acmicpc.net', 'https://www.naver.com', 'https://maplestory.nexon.com']\n",
      "검색어 입력>> 문제\n",
      "['https://www.acmicpc.net', 'https://www.koreatech.ac.kr', 'https://stackoverflow.com', 'https://www.naver.com', 'https://maplestory.nexon.com']\n",
      "검색어 입력>> \n"
     ]
    }
   ],
   "source": [
    "import requests\n",
    "import re\n",
    "import string\n",
    "import pickle\n",
    "\n",
    "url = ['https://www.koreatech.ac.kr','https://www.acmicpc.net','https://stackoverflow.com','https://www.naver.com','https://maplestory.nexon.com']\n",
    "punc = string.punctuation\n",
    "wordList = []\n",
    "for u in url:\n",
    "    req = requests.get(u)\n",
    "    source = req.text\n",
    "\n",
    "    with open('{}.html'.format(u[8:]),'w',encoding='utf-8') as fp:\n",
    "        fp.writelines(source)\n",
    "\n",
    "    body = re.search('<body.*</body>', source, re.I|re.S)\n",
    "\n",
    "    if (body is None) :\n",
    "        exit()\n",
    "\n",
    "    body = body.group()\n",
    "    body = re.sub('<script.*?>.*?</script>', '', body, 0, re.I|re.S)\n",
    "    body = re.sub('<style.*?>.*?</style>', '', body, 0, re.I|re.S)\n",
    "    body = re.sub('<url.*?>.*?</url>', '', body, 0, re.I|re.S)\n",
    "    text = re.sub('<.+?>', ' ', body, 0, re.I|re.S)\n",
    "    text= re.sub('&.*;|\\t|\\r|\\n|@.+?@', ' ', text)\n",
    "    text = re.sub('[\"“”…`’‘＂ㆍ]','',text)\n",
    "\n",
    "    for i in text:\n",
    "        for j in punc:\n",
    "            text=text.replace(j,'')\n",
    "\n",
    "    strHtml = text.split()\n",
    "    htmlSet = list(set(strHtml))\n",
    "\n",
    "    with open('stop_words_english.txt','r',encoding='utf-8') as fp:\n",
    "        stop_en_list = fp.readlines()\n",
    "        stop_en_list = [j.strip().replace(\"'\",'').replace('.','').replace('\"','').replace('-','') for j in stop_en_list]\n",
    "        for i in stop_en_list:\n",
    "            if i in htmlSet: htmlSet.remove(i)\n",
    "\n",
    "    with open('stop_words_korean.txt','r',encoding='utf-8') as fp:\n",
    "        stop_kr_list = fp.readlines()\n",
    "        stop_kr_list = [k for j in stop_kr_list for k in j.strip().split(' ')]\n",
    "        for i in stop_kr_list:\n",
    "            if i in htmlSet: htmlSet.remove(i)\n",
    "\n",
    "    dict = {}\n",
    "    for i in htmlSet:\n",
    "        dict.update({i:strHtml.count(i)})\n",
    "\n",
    "    with open('{}.words_frequency.pickle'.format(u[8:]),'wb') as fp:\n",
    "        pickle.dump(dict,fp)\n",
    "\n",
    "    with open(\"{}.words_frequency.pickle\".format(u[8:]),'rb') as fp:\n",
    "        pickDict = pickle.load(fp)\n",
    "        dictValList = list(pickDict.items())\n",
    "        for i in range(len(dictValList)):\n",
    "            for j in range(i+1,len(dictValList)):\n",
    "                if dictValList[i][1] < dictValList[j][1]:\n",
    "                    dictValList[i],dictValList[j] = dictValList[j],dictValList[i]\n",
    "        wordList.append(dictValList)\n",
    "        print('{} 상위 3개 단어'.format(u))\n",
    "        for p in range(3):\n",
    "            print(dictValList[p])\n",
    "        print()\n",
    "            \n",
    "while True:\n",
    "    key = input(\"검색어 입력>> \")\n",
    "    if not key or key == ' ':\n",
    "        break\n",
    "    else:\n",
    "        wordkeys = []\n",
    "        find = False\n",
    "        urllist = []\n",
    "        for n in range(5):\n",
    "            for t in wordList[n]:\n",
    "                if key in t[0]:\n",
    "                    wordkeys.append(t)\n",
    "        for i in range(len(wordkeys)):\n",
    "            for j in range(i+1,len(wordkeys)):\n",
    "                if wordkeys[i][1] < wordkeys[j][1]:\n",
    "                    wordkeys[i],wordkeys[j] = wordkeys[j],wordkeys[i]\n",
    "                    \n",
    "        for n in range(5):\n",
    "            if wordkeys:\n",
    "                find = True\n",
    "                cnt = wordList[n].count(wordkeys[0])\n",
    "                urllist.append([n,cnt])\n",
    "                \n",
    "        if not find:\n",
    "            print('연관된 사이트가 없습니다.')\n",
    "        else:\n",
    "            for i in range(5):\n",
    "                for j in range(4):\n",
    "                    if urllist[j][1] < urllist[j+1][1]:\n",
    "                        urllist[j],urllist[j+1] = urllist[j+1],urllist[j] \n",
    "            print([url[r[0]] for r in urllist])"
   ]
  },
  {
   "cell_type": "markdown",
   "id": "3416839f",
   "metadata": {},
   "source": [
    "### 7. 본인이 생각하기에 상업적인 완성도 높은 검색 로봇/엔진이 되려면 어떤 기능들이 추가적으로 구현되어야 할지 최소 1가지 이상 제시하시오.\n",
    "\n",
    "제가 생각했을 때 추가되었으면 하는 기능은 바로 연관검색어 기능입니다. 이 기능은 사용자에게서 검색어를 입력 받았을 때 가장 연관된 사이트에서 검색어와 가장 연관된 단어를 제시하면 더욱 높은 완성도를 가진 검색 엔진이 될 것 같습니다."
   ]
  },
  {
   "cell_type": "markdown",
   "id": "099f2110",
   "metadata": {},
   "source": [
    "### 코드 설명\n",
    "저번에 계산한 키워드 사전에서 불용어를 제거한 후 이를 pickel 형식으로 저장했습니다.    \n",
    "이때 이름은 url.words_frequency.pickle 입니다.   \n",
    "pickle 파일을 다시 열어 dict 형식으로 내용을 받은 후 dict의 아이템을 리스트에 저장합니다.   \n",
    "그리고 이를 빈도수로 정렬합니다. 그 후 상위 3가지 단어를 출력합니다.   \n",
    "그리고 사용자로부터 검색어를 받아 해당 검색어가 얼마나 있는 지를 채크합니다.   \n",
    "그리고 url 순서 번호와 빈도수를 리스트 형태로 하여 저장합니다.   \n",
    "그리고 리스트를 내림차순으로 정렬한 후 url 순서를 표시하였습니다."
   ]
  },
  {
   "cell_type": "markdown",
   "id": "47f4d0e6",
   "metadata": {},
   "source": [
    "## 소감\n",
    "> 이번 과제를 하면서 파일입출력에 더욱 알게되어 좋았습니다. \n",
    "> 그리고 이번 과제를 하면서 어떻게 하면 좀 더 pythonic 하게 코드를 구현할까 고민을 많이 했습니다. \n",
    "> 그래서 5번 문제 같은 경우 원래는 꽤나 긴 코드였지만 좀 더 생각해보고 찾아보면서 pythonic 하게 코드를 구현 한 결과 \n",
    "> 아주 짧은 줄로 문제를 해결하였습니다. 그래서 앞으로는 좀 더 pythonic 하게 코드를 구현해야겠다고 느꼈습니다."
   ]
  }
 ],
 "metadata": {
  "kernelspec": {
   "display_name": "Python 3",
   "language": "python",
   "name": "python3"
  },
  "language_info": {
   "codemirror_mode": {
    "name": "ipython",
    "version": 3
   },
   "file_extension": ".py",
   "mimetype": "text/x-python",
   "name": "python",
   "nbconvert_exporter": "python",
   "pygments_lexer": "ipython3",
   "version": "3.8.8"
  }
 },
 "nbformat": 4,
 "nbformat_minor": 5
}
