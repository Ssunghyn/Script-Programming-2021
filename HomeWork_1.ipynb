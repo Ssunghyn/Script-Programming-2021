{
 "cells": [
  {
   "cell_type": "markdown",
   "metadata": {},
   "source": [
    "# 1주차 스크립트 과제\n",
    "\n",
    "#### 1. a=\"Hello Python\" 문자열을 Slicing과 연결 연산자 (+)를 사용하여 \"Python Hello\"로 변경하시오.\n",
    "####    [주의] a 변수 자체에 \"Python Hello\" 문자열이 저장되어야 함\n"
   ]
  },
  {
   "cell_type": "code",
   "execution_count": 3,
   "metadata": {},
   "outputs": [
    {
     "name": "stdout",
     "output_type": "stream",
     "text": [
      "Python Hello\n"
     ]
    }
   ],
   "source": [
    "a=\"Hello Python\"\n",
    "\n",
    "hello = a[0:5]\n",
    "python = a[6:]\n",
    "a = python + \" \" + hello\n",
    "print(a)"
   ]
  },
  {
   "cell_type": "markdown",
   "metadata": {},
   "source": [
    "#### 코드 설명\n",
    "hello 변수에 a 문자열의 인덱스 0번부터 4번까지 슬라이싱한 문자를 저장하고,   \n",
    "python 변수에 a 문자열 P의 인덱스 6번부터 마지막까지 문자를 저장합니다.   \n",
    "그리고 a 변수에 python과 hello를 문자열 연산 + 를 이용해 저장한 후 print()함수를 이용하여 출력합니다."
   ]
  },
  {
   "cell_type": "markdown",
   "metadata": {},
   "source": [
    "#### 2. b=\"Hello Python World\" 문자열을 Slicing과 연결 연산자 (+)를 사용하여 \"World Python Hello\"로 변경하시오.\n",
    "####    [주의] b 변수 자체에 \"World Python Hello\" 문자열이 저장되어야 함\n"
   ]
  },
  {
   "cell_type": "code",
   "execution_count": 4,
   "metadata": {},
   "outputs": [
    {
     "name": "stdout",
     "output_type": "stream",
     "text": [
      "World Python Hello\n"
     ]
    }
   ],
   "source": [
    "b = \"Hello Python World\"\n",
    "hello = b[0:5]\n",
    "python = b[6:12]\n",
    "world = b[13:]\n",
    "\n",
    "b = world + \" \" + python + \" \" + hello\n",
    "\n",
    "print(b)"
   ]
  },
  {
   "cell_type": "markdown",
   "metadata": {},
   "source": [
    "#### 코드 설명\n",
    "hello 변수에 b 문자열의 인덱스 0번부터 4번까지의 문자열을 저장합니다.   \n",
    "python 변수에 b 문자열의 문자 P의 인덱스인 6번부터 12번까지를 저장합니다.   \n",
    "world 변수에 b 문자열의 문자 W의 인덱스인 13번 부터 마지막까지 저장합니다.   \n",
    "그리고 변수 b에 world, python, hello 변수를 더한 후 저장하고 print()함수로 출력합니다."
   ]
  },
  {
   "cell_type": "markdown",
   "metadata": {},
   "source": [
    "#### 3. c=\"Hello\"를 \"olleH\"로 변경하시오\n",
    "#### [주의] c 변수 자체에 \"olleH\" 문자열이 저장되어야 함"
   ]
  },
  {
   "cell_type": "code",
   "execution_count": 5,
   "metadata": {},
   "outputs": [
    {
     "name": "stdout",
     "output_type": "stream",
     "text": [
      "olleH\n"
     ]
    }
   ],
   "source": [
    "c = \"Hello\"\n",
    "c = ''.join(reversed(c))\n",
    "print(c)"
   ]
  },
  {
   "cell_type": "markdown",
   "metadata": {},
   "source": [
    "#### 코드 설명\n",
    "c 변수에 \"Hello\"를 저장합니다.   \n",
    "그리고 c 변수에 reversed() 메소드를 사용하여 c를 역정렬 시키고 이를 빈 문자열에 join()함수를 사용하여 추가합니다."
   ]
  },
  {
   "cell_type": "markdown",
   "metadata": {},
   "source": [
    "#### 4. s=\"python\"에 대해 다음 문제를 풀어보시오.\n",
    "#### s[0], s[0][0], s[0][0][0]은 각각 어떤 값이 나오는지 확인하고 그 이유를 나름대로 설명해 보시오.\n",
    "#### s[-100], s[100]은 값이 나오는지 에러가 나오는지 확인하고 그 결과에 대한 이유를 나름대로 설명해 보시오.\n",
    "#### s[-100, 100]은 값이 나오는지 에러가 나오는지 확인하고 그 결과에 대한 이유를 나름대로 설명해 보시오.\n",
    "#### s[1:-1]의 결과를 확인하고 그 결과에 대한 이유를 정확하게 설명하시오.\n",
    "#### s[3:-3]의 결과를 확인하고 그 결과에 대한 이유를 정확하게 설명하시오."
   ]
  },
  {
   "cell_type": "code",
   "execution_count": 11,
   "metadata": {},
   "outputs": [],
   "source": [
    "s=\"python\""
   ]
  },
  {
   "cell_type": "code",
   "execution_count": 12,
   "metadata": {},
   "outputs": [
    {
     "name": "stdout",
     "output_type": "stream",
     "text": [
      "p\n",
      "y\n",
      "y\n"
     ]
    }
   ],
   "source": [
    "print(s[0])\n",
    "print(s[0][0])\n",
    "print(s[0][0][0])"
   ]
  },
  {
   "cell_type": "markdown",
   "metadata": {},
   "source": [
    "#### 코드 설명\n",
    "s[0]는 문자열 s의 인덱스 0번을 의미합니다.     \n",
    "s[0][0]를 리스트 형식으로 표현하면 [[p]]로 표현할 수 있습니다. 따라서 s[0][0]은 p를 의미합니다.       \n",
    "s[0][0][0]를 리스트 형식으로 표현하면 [[[p]]]로 표현할 수 있습니다. 따라서 s[0][0][0]은 p를 의미합니다.   "
   ]
  },
  {
   "cell_type": "code",
   "execution_count": 22,
   "metadata": {},
   "outputs": [
    {
     "ename": "IndexError",
     "evalue": "string index out of range",
     "output_type": "error",
     "traceback": [
      "\u001b[1;31m---------------------------------------------------------------------------\u001b[0m",
      "\u001b[1;31mIndexError\u001b[0m                                Traceback (most recent call last)",
      "\u001b[1;32m<ipython-input-22-dd2baac26746>\u001b[0m in \u001b[0;36m<module>\u001b[1;34m\u001b[0m\n\u001b[1;32m----> 1\u001b[1;33m \u001b[0mprint\u001b[0m\u001b[1;33m(\u001b[0m\u001b[0ms\u001b[0m\u001b[1;33m[\u001b[0m\u001b[1;33m-\u001b[0m\u001b[1;36m100\u001b[0m\u001b[1;33m]\u001b[0m\u001b[1;33m)\u001b[0m\u001b[1;33m\u001b[0m\u001b[1;33m\u001b[0m\u001b[0m\n\u001b[0m",
      "\u001b[1;31mIndexError\u001b[0m: string index out of range"
     ]
    }
   ],
   "source": [
    "print(s[-100])"
   ]
  },
  {
   "cell_type": "markdown",
   "metadata": {},
   "source": [
    "s[-100]은 뒤에서 100번째 되는 인덱스이다. 하지만 해당 문자는 6글자임으로 인덱스 범위를 벗어나 에러가 발생합니다."
   ]
  },
  {
   "cell_type": "code",
   "execution_count": 23,
   "metadata": {},
   "outputs": [
    {
     "ename": "IndexError",
     "evalue": "string index out of range",
     "output_type": "error",
     "traceback": [
      "\u001b[1;31m---------------------------------------------------------------------------\u001b[0m",
      "\u001b[1;31mIndexError\u001b[0m                                Traceback (most recent call last)",
      "\u001b[1;32m<ipython-input-23-4b48abbe85a9>\u001b[0m in \u001b[0;36m<module>\u001b[1;34m\u001b[0m\n\u001b[1;32m----> 1\u001b[1;33m \u001b[0mprint\u001b[0m\u001b[1;33m(\u001b[0m\u001b[0ms\u001b[0m\u001b[1;33m[\u001b[0m\u001b[1;36m100\u001b[0m\u001b[1;33m]\u001b[0m\u001b[1;33m)\u001b[0m\u001b[1;33m\u001b[0m\u001b[1;33m\u001b[0m\u001b[0m\n\u001b[0m",
      "\u001b[1;31mIndexError\u001b[0m: string index out of range"
     ]
    }
   ],
   "source": [
    "print(s[100])"
   ]
  },
  {
   "cell_type": "markdown",
   "metadata": {},
   "source": [
    "s[100]은 s의 101번째 문자에 대한 표현입니다. 하지만 문자열 s는 6글자임으로 인덱스가 5까지 밖에 없고, 101번째 글자는 존재하지 않기 때문에 에러가 발생합니다."
   ]
  },
  {
   "cell_type": "code",
   "execution_count": 21,
   "metadata": {},
   "outputs": [
    {
     "ename": "TypeError",
     "evalue": "string indices must be integers",
     "output_type": "error",
     "traceback": [
      "\u001b[1;31m---------------------------------------------------------------------------\u001b[0m",
      "\u001b[1;31mTypeError\u001b[0m                                 Traceback (most recent call last)",
      "\u001b[1;32m<ipython-input-21-8e3036c87757>\u001b[0m in \u001b[0;36m<module>\u001b[1;34m\u001b[0m\n\u001b[1;32m----> 1\u001b[1;33m \u001b[0mprint\u001b[0m\u001b[1;33m(\u001b[0m\u001b[0ms\u001b[0m\u001b[1;33m[\u001b[0m\u001b[1;33m-\u001b[0m\u001b[1;36m100\u001b[0m\u001b[1;33m,\u001b[0m\u001b[1;36m100\u001b[0m\u001b[1;33m]\u001b[0m\u001b[1;33m)\u001b[0m\u001b[1;33m\u001b[0m\u001b[1;33m\u001b[0m\u001b[0m\n\u001b[0m",
      "\u001b[1;31mTypeError\u001b[0m: string indices must be integers"
     ]
    }
   ],
   "source": [
    "print(s[-100,100])"
   ]
  },
  {
   "cell_type": "markdown",
   "metadata": {},
   "source": [
    "s[-100,100]은 두 개의 정수가 들어가 TypeError: string indices must be integers 라는 Type 에러가 발생합니다."
   ]
  },
  {
   "cell_type": "code",
   "execution_count": 24,
   "metadata": {},
   "outputs": [
    {
     "name": "stdout",
     "output_type": "stream",
     "text": [
      "ytho\n",
      "\n"
     ]
    }
   ],
   "source": [
    "print(s[1:-1])\n",
    "print(s[3:-3])"
   ]
  },
  {
   "cell_type": "markdown",
   "metadata": {},
   "source": [
    "#### 코드 설명\n",
    "s[1,-1]은 s문자열의 1번 인덱스에서 마지막 문자 전까지 슬라이싱을 했습니다.따라서 ytho가 출력이 됩니다.   \n",
    "그리고 s[3:-3]은 s문자열 3번 인덱스에서 뒤에서 3번째 문자 전까지 슬라이싱을 한 것입니다.    \n",
    "그렇게 되면 s문자열의 인덱스 3번인 h에서 뒤에서 부터 3번째 문자전인 t이 까지이므로 아무 문자가 출력되지 않습니다."
   ]
  },
  {
   "cell_type": "markdown",
   "metadata": {},
   "source": [
    "#### 5. for문을 활용하여 1부터 100사이의 홀수를 출력하시오."
   ]
  },
  {
   "cell_type": "code",
   "execution_count": 27,
   "metadata": {},
   "outputs": [
    {
     "name": "stdout",
     "output_type": "stream",
     "text": [
      "1,3,5,7,9,11,13,15,17,19,21,23,25,27,29,31,33,35,37,39,41,43,45,47,49,51,53,55,57,59,61,63,65,67,69,71,73,75,77,79,81,83,85,87,89,91,93,95,97,99,"
     ]
    }
   ],
   "source": [
    "for i in range(1, 101):\n",
    "    if i % 2 != 0:\n",
    "        print(i,end = \",\")"
   ]
  },
  {
   "cell_type": "markdown",
   "metadata": {},
   "source": [
    "#### 코드설명\n",
    "i변수를 for문을 활용하여 range()함수를 통해 1에서 100전까지 반복합니다.   \n",
    "만약 i가 2로 나누었을 때 0이 아닐 경우(즉 1일 경우, 한마디로 홀수일 경우)   \n",
    "i값을 출력합니다."
   ]
  },
  {
   "cell_type": "markdown",
   "metadata": {},
   "source": [
    "#### 6. while문을 활용하여 1부터 100사이의 짝수의 합을 계산하여 출력하시오."
   ]
  },
  {
   "cell_type": "code",
   "execution_count": 28,
   "metadata": {},
   "outputs": [
    {
     "name": "stdout",
     "output_type": "stream",
     "text": [
      "2550\n"
     ]
    }
   ],
   "source": [
    "i = 0\n",
    "sum = 0\n",
    "while i < 101:\n",
    "    if i % 2 == 0:\n",
    "        sum += i\n",
    "    i += 1\n",
    "print(sum)"
   ]
  },
  {
   "cell_type": "markdown",
   "metadata": {},
   "source": [
    "#### 코드설명\n",
    "100이전까지 반복할 변수 i를 0으로 초기화하여 선언합니다.   \n",
    "그리고 짝수의 합을 저장할 변수 sum을 0으로 초기화하여 선언합니다.   \n",
    "while문을 사용하여 i가 101보다 작을 경우 반복을 하게 설정합니다.   \n",
    "만약 i가 2로 나누었을 때 나머지가 0일 경우 sum에 i값을 더해줍니다.   \n",
    "그리고 i 값을 1증가합니다.\n",
    "반복문이 끝나면 sum값을 출력합니다."
   ]
  },
  {
   "cell_type": "markdown",
   "metadata": {},
   "source": [
    "#### 7. 사용자로 부터 임의의 정수를 입력받고, 해당 숫자를 역순으로 출력하는 프로그램을 작성하시오.\n",
    "\n",
    "[실행 예]\n",
    "\n",
    " 정수를 입력하세요: 3125\n",
    " 숫자 역순은 5213 입니다."
   ]
  },
  {
   "cell_type": "code",
   "execution_count": 29,
   "metadata": {},
   "outputs": [
    {
     "name": "stdout",
     "output_type": "stream",
     "text": [
      "정수를 입력하세요: 3125\n",
      "숫자 역순: 5213\n"
     ]
    }
   ],
   "source": [
    "num = input(\"정수를 입력하세요: \")\n",
    "print(\"숫자 역순: \"+num[::-1])"
   ]
  },
  {
   "cell_type": "markdown",
   "metadata": {},
   "source": [
    "#### 코드 설명\n",
    "num 변수에 사용자에게 입력받은 정수를 저장합니다.    \n",
    "이때 역순 출력을 쉽게 하기 위해 int형이 아닌 문자열로 저장합니다.   \n",
    "그리고 num을 뒤에서부터 출력하여 역순으로 출력합니다."
   ]
  },
  {
   "cell_type": "markdown",
   "metadata": {},
   "source": [
    "#### 8. 사용자로 부터 정수를 입력받아서 1부터 그 사이에 존재하는 소수 (Prime number)를 출력하는 파이썬 프로그램을 작성하시오."
   ]
  },
  {
   "cell_type": "code",
   "execution_count": 44,
   "metadata": {},
   "outputs": [
    {
     "name": "stdout",
     "output_type": "stream",
     "text": [
      "정수를 입력하세요: 36\n",
      "2,3,5,7,11,13,17,19,23,29,31,"
     ]
    }
   ],
   "source": [
    "num = input(\"정수를 입력하세요: \")\n",
    "num = int(num)\n",
    "\n",
    "for i in range(2, num):\n",
    "    for j in range(2, i+1):\n",
    "        if i is j:\n",
    "            print(i, end = \",\")\n",
    "        elif i % j == 0:\n",
    "            break"
   ]
  },
  {
   "cell_type": "markdown",
   "metadata": {},
   "source": [
    "#### 코드 설명\n",
    "num에 사용자에게서 정수를 입력받고 이를 int형으로 변환하여 저장을 합니다.   \n",
    "for문을 사용하여 2에서부터 입력받은 num까지 반복합니다.   \n",
    "그리고 i값을 나누어서 나누어 떨어지는 수가 있는지 확인하는 j에 대해 for문을 사용하여 2부터 i까지 반복합니다.  \n",
    "만약 i가 j와 같을 경우 i 미만의 값에서 i는 나누어 떨어지는 수가 없음으로 이는 소수임으로 출력을 해줍니다.   \n",
    "그리고 i가 i이하의 값 j에 대해 나누어 떨어지면 반복문을 종료합니다."
   ]
  },
  {
   "cell_type": "markdown",
   "metadata": {},
   "source": [
    "#### 9. Kevin과 Stuart는 게임을 한다. 규칙은 아래와 같다.   \n",
    "두 플레이어에게 같은 string, S, 가 주어진다.   \n",
    "두 플레이어는 string S의 문자를 사용하여 substring을 만들어야 한다(중복 가능).   \n",
    "Stuart는 자음으로 시작하는 단어를 만들어야 한다.   \n",
    "Kevin은 모음으로 시작하는 단어를 만들어야 한다.    \n",
    "게임은 두 플레이어가 만들 수 있는 모든 단어를 만들었을 때 끝난다.   \n",
    "점수 계산 : substring 1개당 +1 점을 획득한다. (아래 그림 참고)   \n",
    "사용자로 부터 대문자로 이루어진 string S를 입력받고, 승자와 그의 점수를 출력하는 프로그램을 작성하시오.   \n",
    "\n",
    "[실행 예]\n",
    "\n",
    "  string S를 입력하세요: BANANA\n",
    "  승자: Stuart 점수: 12"
   ]
  },
  {
   "cell_type": "code",
   "execution_count": 32,
   "metadata": {},
   "outputs": [
    {
     "name": "stdout",
     "output_type": "stream",
     "text": [
      "string S를 입력하세요: BANANA\n"
     ]
    }
   ],
   "source": [
    "word = input(\"string S를 입력하세요: \")\n",
    "\n",
    "Stuart = 0\n",
    "Kevin = 0\n",
    "\n",
    "total = (len(word) * (len(word) + 1)) // 2  # 단어에서 나올 수 있는 총 subString 개수"
   ]
  },
  {
   "cell_type": "code",
   "execution_count": 33,
   "metadata": {},
   "outputs": [],
   "source": [
    "for i in range(0, len(word)):\n",
    "    if (word[i] == 'A') or (word[i] == 'E') or (word[i] == 'I') or (word[i] == 'O') or (word[i] == 'U'):\n",
    "        Kevin += len(word) - i\n",
    "\n",
    "Stuart = total - Kevin"
   ]
  },
  {
   "cell_type": "code",
   "execution_count": 34,
   "metadata": {},
   "outputs": [
    {
     "name": "stdout",
     "output_type": "stream",
     "text": [
      "승자: Stuart 점수: 12\n"
     ]
    }
   ],
   "source": [
    "if Stuart > Kevin:\n",
    "    print(\"승자: Stuart 점수: {}\".format(Stuart))\n",
    "elif Stuart < Kevin:\n",
    "    print(\"승자: Kevin 점수: {}\".format(Kevin))\n",
    "else:\n",
    "    print(\"비겼습니다. 점수: {}\".format(Kevin))"
   ]
  },
  {
   "cell_type": "markdown",
   "metadata": {},
   "source": [
    "#### 코드 설명\n",
    "변수 word에 사용자에게 입력받은 문자열을 저장합니다.   \n",
    "그리고 Stuart 점수와 Kevin 점수를 저장하는 변수 (Sturat, Kevin)을 0으로 초기화하여 선언합니다.   \n",
    "그리고 해당 단어의 총 점수를 계산하여 total 변수에 저장합니다.   \n",
    "(이때 subString의 개수는 해당 문자에서 마지막 문자까지의 길이와 같음으로 이는 1에서 word의 길이까지의 합과 같습니다.)   \n",
    "그리고 for문을 사용하여 word문자열에서 모음의 인덱스를 찾고 word의 길이에서 인덱스의 값을 빼면 해당 문자가 포함된 subString의 수와 같습니다. 그래서 이 값을 Kevin의 점수에 더해줍니다.   \n",
    "그리고 Stuart의 점수는 총점에서 Kevin의 점수를 빼준 값이 됩니다.   \n",
    "그리고 Stuart의 점수와 Kevin의 점수를 비교하여 승자를 출력합니다.   "
   ]
  },
  {
   "cell_type": "markdown",
   "metadata": {},
   "source": [
    "#### 10.알파벳 소문자만으로 이루어진 string, S, 가 주어지고 아래 2가지 연산을 수행할 수 있다.\n",
    "추가 : string S의 끝에 알파벳 소문자 하나를 추가한다.   \n",
    "삭제 : string S의 마지막 문자 하나를 삭제한다. empty string에서 삭제 연산을 수행한 결과는 empty string이다.   \n",
    "두 개의 string, s와 t, 그리고 정수 k가 주어질 때, 정확히 k번의 연산을 통해 s를 t로 바꿀 수 있는지 판단하는 함수를 작성하시오.\n",
    "```\n",
    "def appendDelete(s, t, k):\n",
    "    '''\n",
    "    함수 포맷 변경하지 마세요.\n",
    "    s를 정확히 k번의 연산을 통해 t로 바꿀 수 있다면 'Yes'를 아니면 'No'를 return 해주세요.\n",
    "    '''\n",
    "    return 'Yes'    # or 'No'\n",
    "```\n",
    "    [예시]\n",
    "\n",
    "       1. s = 'hackerhappy'    t = 'hackerrank'    k = 9    => 'Yes'\n",
    "\n",
    "       2. s = 'aba'            t = 'aba'           k = 7    => 'Yes'\n",
    "\n",
    "       3. s = 'ashley'         t = 'ash'           k = 2    => 'No'\n"
   ]
  },
  {
   "cell_type": "code",
   "execution_count": 35,
   "metadata": {},
   "outputs": [],
   "source": [
    "def appendDelete(s, t, k):\n",
    "    check = False\n",
    "    index = 0\n",
    "    for i in range(0, len(s)):\n",
    "        if i == len(t):\n",
    "            break\n",
    "        elif s[i] != t[i]:\n",
    "            break\n",
    "        index = i\n",
    "\n",
    "    if k > len(s) + len(t):\n",
    "        check = True\n",
    "\n",
    "    else:\n",
    "        num = (len(s) - 1 - index) + (len(t) - 1 - index)\n",
    "        if (k - num) >= 0 and (k - num) % 2 == 0:\n",
    "            check = True\n",
    "\n",
    "    if check:\n",
    "        return 'Yes'  # or 'No'\n",
    "    else:\n",
    "        return 'No'"
   ]
  },
  {
   "cell_type": "markdown",
   "metadata": {},
   "source": [
    "#### 코드 설명\n",
    "변수 check를 선언하여 False 값으로 초기화하여 선언합니다. 이는 Yes와 No를 판단하는 변수입니다.   \n",
    "입력받은 s와 t 문자열의 같은 문자의 인덱스를 찾는 변수입니다.   \n",
    "for문을 사용하여 같은 문자의 인덱스를 찾습니다.   \n",
    "이때 i가 문자열 t의 길이와 같다면 반복문을 멈춥니다. (이는 t문자열이 s문자열에 포함된다는 뜻입니다.)   \n",
    "만약 s와 t의 문자가 다르면 반복문을 종료합니다. (그 이전까지는 같은 문자입니다.)   \n",
    "마지막으로 index값에 i값을 넣어줍니다.   \n",
    "k 값에 대해 경우를 나누어줍니다.   \n",
    "만약 k가 문자열 s의 길이와 문자열 t의 길이의 합보다 클 경우   \n",
    "(이는 s의 문자를 다 지우고 t의 문자열을 다 입력하는 경우 입니다. 이때 남는 수는 그만큼 빈 문자열에서 삭제를 진행합니다.)   \n",
    "이때는 항상 s를 k번의 연산을 통해 t로 변환할 수 있음으로 check 값에 True를 대입합니다.   \n",
    "그 외의 경우에는 서로 다른 문자열의 수를 더한 값을 num 변수에 저장한 후,   \n",
    "이를 k값에 뺐을 때 이 값이 0보다 크고, 2의 배수일 경우 이 연산은 가능하기 때문에 check 값에 True를 대입합니다.   \n",
    "(skill 과 sky로 예시로 하면, 다른 부분의 길이 ill(3)과 y(1)의 값을 더한 값보다 k가 커야하고.   \n",
    "kill을 삭제하고 ky를 삽입해도 성립함으로 k값에서 두 문자열의 차이나는 부분의 길이를 뺀 값이 짝수여야 합니다.)   \n",
    "그리고 check가 True 일 경우 Yes 를 출력하고 False일 경우 No를 출력합니다.   "
   ]
  },
  {
   "cell_type": "markdown",
   "metadata": {},
   "source": [
    "### 소감\n",
    "-----------------------\n",
    "이번 과제를 하면서 초반에는 파이썬의 기초를 다시 한번 다잡는 시간이 되었습니다.   \n",
    "이를 통해 String 문자열에 대해 슬라이싱 및 인덱싱의 개념을 다시 한 번 잡을 수 있었습니다.   \n",
    "그리고 for문과 while문 문제를 풀면서 다양한 방식으로 조건문의 개념을 알 수 있었고,   \n",
    "9번 10번 문제를 풀면서 이 개념들을 어떻게 적용할 수 있는지를 알 수 있어서 굉장히 문제를 해결하는 데 있어 재밌었습니다."
   ]
  }
 ],
 "metadata": {
  "kernelspec": {
   "display_name": "Python 3",
   "language": "python",
   "name": "python3"
  },
  "language_info": {
   "codemirror_mode": {
    "name": "ipython",
    "version": 3
   },
   "file_extension": ".py",
   "mimetype": "text/x-python",
   "name": "python",
   "nbconvert_exporter": "python",
   "pygments_lexer": "ipython3",
   "version": "3.8.5"
  }
 },
 "nbformat": 4,
 "nbformat_minor": 4
}
