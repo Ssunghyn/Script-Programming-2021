{
 "cells": [
  {
   "cell_type": "markdown",
   "metadata": {},
   "source": [
    "# 2주차 스크립트 과제\n",
    "> **학번: 2018136137**     \n",
    "> **이름: 한성현**\n",
    "#### 1. 다음 6 개의 Expression에 대해 Evaluation 결과 값을 출력하고, 해당 결과가 나온 이유에 대해 설명하시오.   \n",
    "* 1 and 2 and 3 and 4   \n",
    "* 1 or 2 or 3 or 4   \n",
    "* 1 and 2 or 3 and 4    \n",
    "* (1 and 2) or (3 and 4)   \n",
    "* 1 or 2 and 3 or 4    \n",
    "* (1 or 2) and (3 or 4)"
   ]
  },
  {
   "cell_type": "code",
   "execution_count": 1,
   "metadata": {},
   "outputs": [
    {
     "name": "stdout",
     "output_type": "stream",
     "text": [
      "4\n"
     ]
    }
   ],
   "source": [
    "print(1 and 2 and 3 and 4) #4"
   ]
  },
  {
   "cell_type": "markdown",
   "metadata": {},
   "source": [
    " 1 과 (2 and 3 and 4)를 비교를 합니다.    \n",
    " 그 전에 2와 (3 and 4)를 비교를 진행합니다.    \n",
    " 3 and 4를 비교 하면 뒤에 있는 4 값을 반환 합니다.    \n",
    " 그러면 2 and 4를 비교하면 뒤에 있는 참 값인 4를 또 반환 합니다.    \n",
    " 마지막으로 1 and 4를 비교 하면 뒤에 있는 참 값인 4를 반환하여 최종적으로 4를 반환합니다."
   ]
  },
  {
   "cell_type": "code",
   "execution_count": 2,
   "metadata": {},
   "outputs": [
    {
     "name": "stdout",
     "output_type": "stream",
     "text": [
      "1\n"
     ]
    }
   ],
   "source": [
    "print(1 or 2 or 3 or 4) #1"
   ]
  },
  {
   "cell_type": "markdown",
   "metadata": {},
   "source": [
    "1 과 (2 or 3 or 4)를 비교를 합니다.    \n",
    "그 전에 2와 (3 or 4)를 비교를 진행합니다.    \n",
    "3 or 4를 비교 하면 앞에 있는 3 값을 반환 합니다.     \n",
    "그러면 2 or 3를 비교하면 앞에 있는 참 값인 2를 또 반환 합니다.    \n",
    "마지막으로 1 or 2를 비교 하면 앞에 있는 참 값인 4를 반환하여 최종적으로 1를 반환합니다."
   ]
  },
  {
   "cell_type": "code",
   "execution_count": 3,
   "metadata": {},
   "outputs": [
    {
     "name": "stdout",
     "output_type": "stream",
     "text": [
      "2\n"
     ]
    }
   ],
   "source": [
    "print(1 and 2 or 3 and 4) #2"
   ]
  },
  {
   "cell_type": "markdown",
   "metadata": {},
   "source": [
    "1 과 (2 or 3 and 4)를 비교를 합니다.   \n",
    "그 전에 2와 (3 and 4)를 비교를 진행합니다.    \n",
    "3 and 4를 비교 하면 뒤에 있는 4 값을 반환 합니다.    \n",
    "그러면 2 or 3를 비교하면 앞에 있는 참 값인 2를 또 반환 합니다.    \n",
    "마지막으로 1 and 2를 비교 하면 뒤에 있는 참 값인 2를 반환하여 최종적으로 1를 반환합니다.    "
   ]
  },
  {
   "cell_type": "code",
   "execution_count": 4,
   "metadata": {},
   "outputs": [
    {
     "name": "stdout",
     "output_type": "stream",
     "text": [
      "2\n"
     ]
    }
   ],
   "source": [
    "print((1 and 2) or (3 and 4)) #2"
   ]
  },
  {
   "cell_type": "markdown",
   "metadata": {},
   "source": [
    "(1 and 2) 과 (3 and 4)를 비교를 합니다.      \n",
    "1 and 2를 비교하면 뒤에 있는 참 값인 2를 반환하고,     \n",
    "3 and 4를 비교하면 뒤에 있는 참 값인 4를 반환합니다.    \n",
    "2 or 4를 마지막으로 비교하면 앞에 있는 참 값인 2를 반환합니다.    \n",
    "마지막으로 2 or 3를 비교하면 앞에 있는 참 값인 2를 또 반환 합니다."
   ]
  },
  {
   "cell_type": "code",
   "execution_count": 6,
   "metadata": {},
   "outputs": [
    {
     "name": "stdout",
     "output_type": "stream",
     "text": [
      "1\n"
     ]
    }
   ],
   "source": [
    "print(1 or 2 and 3 or 4) #1"
   ]
  },
  {
   "cell_type": "markdown",
   "metadata": {},
   "source": [
    "1 과 (2 and 3 or 4)를 비교를 합니다.    \n",
    "그 전에 2와 (3 or 4)를 비교를 진행합니다.    \n",
    "3 or 4를 비교 하면 앞에 있는 3 값을 반환 합니다.    \n",
    "그러면 2 and 4 를 비교하면 뒤에 있는 참 값인 4를 또 반환 합니다.    \n",
    "마지막으로 1 or 4를 비교 하면 뒤에 있는 참 값인 1을 반환하여 최종적으로 1을 반환합니다."
   ]
  },
  {
   "cell_type": "code",
   "execution_count": 7,
   "metadata": {},
   "outputs": [
    {
     "name": "stdout",
     "output_type": "stream",
     "text": [
      "3\n"
     ]
    }
   ],
   "source": [
    "print((1 or 2) and (3 or 4)) #3"
   ]
  },
  {
   "cell_type": "markdown",
   "metadata": {},
   "source": [
    "(1 or 2) 과 (3 or 4)를 비교를 합니다.      \n",
    "1 or 2를 비교하면 앞에 있는 참 값인 1를 반환하고,     \n",
    "3 or 4를 비교하면 뒤에 있는 참 값인 3를 반환합니다.    \n",
    "1 and 3를 마지막으로 비교하면 앞에 있는 참 값인 3를 반환합니다.    \n",
    "------------------------------------------------------------------------------------------------------"
   ]
  },
  {
   "cell_type": "markdown",
   "metadata": {},
   "source": [
    "#### 2.경로에 해당하는 문자열 1개를 입력 받아 그 안에 디렉토리 경로명과 파일명을 분리하여 리스트로 반환하는 함수 div_path(s)를 작성하시오.\n",
    "* 인자로 전달하는 문자열은 경로만 들어간다고 가정한다.   \n",
    "* 각 디렉토리와 파일을 구분하는 문자는 '/'로 가정한다.   \n",
    "* 반환하는 리스트의 첫번째 원소는 디렉토리이고 두번째 원소는 파일명이다.   \n",
    "* 다음과 같은 실행 및 출력 결과가 도출되어야 한다.    \n",
    "* div_path('/usr/local/bin/python')    \n",
    "* ['/usr/local/bin', 'python']    \n",
    "* div_path('/home/chulsoo/test.txt')    \n",
    "* ['/home/chulsoo', 'test.txt']    \n",
    "* [참고] 리스트(l) 내에 새로운 정수값 (예를 들어 10)을 넣는 방법은 l.append(10) 이다."
   ]
  },
  {
   "cell_type": "code",
   "execution_count": 10,
   "metadata": {},
   "outputs": [
    {
     "name": "stdout",
     "output_type": "stream",
     "text": [
      "경로를 입력하세요>>/usr/local/bin/python\n",
      "['/usr/local/bin', 'python']\n"
     ]
    }
   ],
   "source": [
    "def div_path(s: str):\n",
    "    div_path_list = []\n",
    "    for i in range(len(s) - 1, 0, -1):\n",
    "        if s[i] == '/':\n",
    "            div_path_list.append(path[0:i])\n",
    "            div_path_list.append(path[i + 1:])\n",
    "            break\n",
    "    return div_path_list\n",
    "\n",
    "path = input(\"경로를 입력하세요>>\") \n",
    "print(div_path(path))"
   ]
  },
  {
   "cell_type": "markdown",
   "metadata": {},
   "source": [
    "#### 코드 설명\n",
    "입력받은 path에서 뒤에서 부터 파일을 나누는 '/'를 찾으면 그곳이 파일위치가 됩니다.   \n",
    "그 위치를 기준으로 해당 위치 전까지 슬라이싱을 하면 경로 값이 들어가게 되고,   \n",
    "해당 위치에서 마지막 인덱스까지의 값은 파일의 이름이 됩니다.    \n",
    "그리고 이 값을 list에 순차적으로 넣은 후 해당 list를 반환합니다.     \n",
    "------------------------------------------------------------------------------------------------------"
   ]
  },
  {
   "cell_type": "markdown",
   "metadata": {},
   "source": [
    "#### 3.두 개의 리스트를 인자로 받아서 그 두 개의 리스트에 대한 '합집합'을 반환하는 함수 list_union(lista, listb)를 작성하시오.    \n",
    "* 집합 자료형 set은 사용하지 않는다.    \n",
    "* 인자로 전달하는 리스트 2 개에는 정수값만 들어간다고 가정하자.    \n",
    "* 함수 내에서 새로운 리스트를 만들어 그 리스트 내에 인자로 받은 두 리스트의 모든 원소를 넣어 반환한다.    \n",
    "* 반환하는 리스트에는 절대로 중복된 원소가 들어 있으면 안된다 (집합의 조건).     \n",
    "* 반환하는 리스트는 정렬이 되어 있어야 한다.    \n",
    "* 다음과 같은 실행 및 출력 결과가 도출되어야 한다.    \n",
    "    * list_union([1, 2, 3], [1, 2, 4])     \n",
    "        * [1, 2, 3, 4]      \n",
    "    * list_union([-10, -5, 0, -1], [100, 9, 0, 9])       \n",
    "        * [-10, -5, -1, 0, 9, 100]     \n",
    "    * list_union([0, 1, 2], [0, 1, 2])     \n",
    "        * [0, 1, 2]     \n",
    "* [참고] 리스트(l) 내에 새로운 정수값 (예를 들어 10)을 넣는 방법은 l.append(10) 이다.     \n",
    "* [참고] 임의의 정수값 (x)이 리스트 (l) 내에 존재하는지 판단하는 방법은 x in l 이다.      "
   ]
  },
  {
   "cell_type": "code",
   "execution_count": 11,
   "metadata": {},
   "outputs": [],
   "source": [
    "def list_union(a:list, b:list):\n",
    "    ulist = a+b\n",
    "\n",
    "    ulist.sort()\n",
    "    for i in ulist:\n",
    "        for j in range(ulist.count(i)-1):\n",
    "            ulist.remove(i)\n",
    "    return ulist"
   ]
  },
  {
   "cell_type": "code",
   "execution_count": 12,
   "metadata": {},
   "outputs": [
    {
     "name": "stdout",
     "output_type": "stream",
     "text": [
      "[-10, -5, -1, 0, 9, 100]\n"
     ]
    }
   ],
   "source": [
    "l = list_union([-10, -5, 0, -1], [100, 9, 0, 9])\n",
    "print(l)"
   ]
  },
  {
   "cell_type": "markdown",
   "metadata": {},
   "source": [
    "#### 코드설명\n",
    "합집합을 구하기 위해 list a와 list b를 더합니다.     \n",
    "그리고 이 두 리스트를 더한 리스트를 정렬합니다.    \n",
    "그리고 for 문을 사용하여 반복하여, ulist안에 해당 요소가 몇 개 있는지를 체크한 후       \n",
    "ulist의 해당 요소가 1개가 될 때까지 ulist에서 해당 요소를 삭제합니다.   \n",
    "마지막으로 ulist를 반환하여 합집합을 반환합니다.     \n",
    "------------------------------------------------------------------------------------------------------"
   ]
  },
  {
   "cell_type": "markdown",
   "metadata": {},
   "source": [
    "#### 4. 두 개의 리스트를 인자로 받아서 그 두 개의 리스트에 대한 '교집합'을 반환하는 함수 list_intersection(lista, listb)와 '차집합'을 반환하는 함수 list_difference(lista, listb)를 작성하시오.     \n",
    "* 모든 가정과 조건은 3번 문제와 동일하다."
   ]
  },
  {
   "cell_type": "code",
   "execution_count": 13,
   "metadata": {},
   "outputs": [],
   "source": [
    "def list_intersection(a: list, b: list):\n",
    "    sumList = a + b\n",
    "    iList = []\n",
    "\n",
    "    sumList.sort()\n",
    "\n",
    "    for i in sumList:\n",
    "        for j in range(sumList.count(i) - 1):\n",
    "            sumList.remove(i)\n",
    "\n",
    "    for i in sumList:\n",
    "        if i in a and i in b:\n",
    "            iList.append(i)\n",
    "\n",
    "    return iList"
   ]
  },
  {
   "cell_type": "code",
   "execution_count": 14,
   "metadata": {},
   "outputs": [],
   "source": [
    "def list_difference(a: list, b: list):\n",
    "    sumList = a + b\n",
    "    aList = []\n",
    "    bList = []\n",
    "\n",
    "    sumList.sort()\n",
    "\n",
    "    for i in sumList:\n",
    "        for j in range(sumList.count(i) - 1):\n",
    "            sumList.remove(i)\n",
    "\n",
    "    for i in sumList:\n",
    "        if (i in a) and not (i in b):\n",
    "            aList.append(i)\n",
    "        if (i in b) and not (i in a):\n",
    "            bList.append(i)\n",
    "    return aList,bList"
   ]
  },
  {
   "cell_type": "code",
   "execution_count": 15,
   "metadata": {},
   "outputs": [
    {
     "name": "stdout",
     "output_type": "stream",
     "text": [
      "[1, 2, 3]\n"
     ]
    }
   ],
   "source": [
    "il = list_intersection([3, 1, 4, 2, 4], [5, 1, 5, 3, 5, 2])\n",
    "print(il)"
   ]
  },
  {
   "cell_type": "markdown",
   "metadata": {},
   "source": [
    "#### 코드설명\n",
    "교집합을 구하는 코드는 sumList에 list a와 list b를 더한 리스트를 넣어줍니다.   \n",
    "그리고 sumList를 정렬시킨 후 for문을 통해 중복을 제거합니다.   \n",
    "그리고 조건문을 통해 sumList의 요소가 a와 b 리스트에 있을 경우에만 iList에 추가하여   \n",
    "iList를 반환합니다.   "
   ]
  },
  {
   "cell_type": "code",
   "execution_count": 16,
   "metadata": {},
   "outputs": [
    {
     "name": "stdout",
     "output_type": "stream",
     "text": [
      "([4], [5])\n"
     ]
    }
   ],
   "source": [
    "dl = list_difference([3, 1, 4, 2, 4], [5, 1, 5, 3, 5, 2])\n",
    "print(dl)"
   ]
  },
  {
   "cell_type": "markdown",
   "metadata": {},
   "source": [
    "#### 코드설명\n",
    "차집합을 구하는 코드는 list a와 list b를 더한 집합 sumList를 생성한 후 이를 정렬 및 중복제거를 시킵니다.    \n",
    "그리고 sumList의 요소가 리스트 a에 존재하고, 리스트 b에 존재하지 않으면, aList에 값을 넣어줍니다. (a-b 값)        \n",
    "똑같이 sumList의 요소가 리스트 b에 존재하고, 리스트 a에 존재하지 않으면, bList에 값을 넣어줍니다. (b-a 값)     \n",
    "그리고 반환 할 경우 a-b 리스트와 b-a 리스트 두개를 반환합니다.     \n",
    "--------------------------------------------------"
   ]
  },
  {
   "cell_type": "markdown",
   "metadata": {},
   "source": [
    "#### 5. 두 개의 양의 정수를 인자로 받아서 해당 범위안에 있는 소수(prime number)의 리스트를 출력하는 함수 print_primenumber(a, b)를 작성하시오.    \n",
    "* 이미 구현된 모듈이나 라이브러리는 사용하지 않는다.    \n",
    "* 함수의 반환(return)은 없으며 함수 내의 끝에서 .format()을 사용하여 다음과 같이 출력한다.    \n",
    "    * print_primenumber(2, 10)     \n",
    "        * 2 이상 10 이하 정수 중 소수 리스트: [2, 3, 5, 7]    "
   ]
  },
  {
   "cell_type": "code",
   "execution_count": 17,
   "metadata": {},
   "outputs": [],
   "source": [
    "def print_primenumber(a: int, b: int):\n",
    "    prime_list=[]\n",
    "    for i in range(a, b+1):\n",
    "       for j in range(1,i):\n",
    "           if j == i-1:\n",
    "                prime_list.append(i)\n",
    "           elif i % (j+1) == 0:\n",
    "               break\n",
    "    print(\"{}이상 {}이하 정수 중 소수 리스트: {}\".format(a,b,prime_list))"
   ]
  },
  {
   "cell_type": "code",
   "execution_count": 18,
   "metadata": {},
   "outputs": [
    {
     "name": "stdout",
     "output_type": "stream",
     "text": [
      "2이상 11이하 정수 중 소수 리스트: [2, 3, 5, 7, 11]\n"
     ]
    }
   ],
   "source": [
    "print_primenumber(2,11)"
   ]
  },
  {
   "cell_type": "markdown",
   "metadata": {},
   "source": [
    "#### 코드설명\n",
    "prime_list를 만들어 a와 b 사이에 있는 소수를 저장할 것입니다.    \n",
    "a부터 b를 포함한 범위에서 for문을 사용하여 소수인 수를 찾을 것입니다.   \n",
    "그리고 i for문 내에서 j for문을 사용하여 i가 약수를 갖는지를 확인합니다.   \n",
    "만약 i가 j+1로 나누어 떨어지면 이는 소수가 아니기에 반복문을 탈출합니다. (이 때 j+1인 이유는 j가 1부터 시작하기 때문입니다.)     \n",
    "그리고 j가 i-1값까지 도달하게 되면, 그 동안 약수가 없었음으로 이는 소수이기 때문에 prime_list에 추가합니다.     \n",
    "그리고 prime_list를 출력하고 None을 반환하면서 함수가 종료됩니다.    \n",
    "--------------------------------------------------"
   ]
  },
  {
   "cell_type": "markdown",
   "metadata": {},
   "source": [
    "#### [Incremental Project 문제]\n",
    "#### 웹 URL로 지정된 웹페이지를 문자열로 가져와 1) 모든 HTML 태그를 제외한 순수 텍스트 문자열만을 걸러내고, 2) 그 순수 텍스트 문자열 안에 존재하는 단어가 총 몇개인지 출력하는 프로그램을 작성하시오.   \n",
    "HTML 태그는 다음 조건을 가지는 것이다.   \n",
    "\n",
    "* < 로 시작하여 >로 끝난다.   \n",
    "* 예를 들어, 아래와 같은 HTML 내용 내에 한 줄이 있다고 가정하자.   \n",
    "* <label for=\"keep_signed\">로그인 유지</label>   \n",
    "* 위 소스에서 HTML 태그를 제외한 순수 텍스트 문자열: 로그인 유지   \n",
    "   \n",
    "* 다른 예제    \n",
    "```\n",
    "<a href=\"#panel-3\" class=\"ui-tabs-anchor\" role=\"presentation\" tabindex=\"-1\" id=\"ui-id-3\"><strong>교육역량강화사업 온라인 컨텐츠</strong><br>\n",
    "```\n",
    "   * 순수 텍스트 문자열: 교육역량강화사업 온라인 컨텐츠   \n",
    "   \n",
    "* 한편, 아래와 같은 HTML 한 줄이 있다고 가정하자.    \n",
    "```\n",
    "<link rel=\"stylesheet\" href=\"/common/css/xe.min.css?20150910092654\" />\n",
    "```   \n",
    "   * 위 한 줄은 HTML 태그로만 구성된 것이며 걸러낼 수 있는 순수 텍스 문자열은 존재하지 않는다.    \n",
    "   \n",
    "* 다른 예제\n",
    "```\n",
    "//<![CDATA[\n",
    "xe.current_lang = \"ko\";\n",
    "xe.cmd_find = \"찾기\";\n",
    "xe.cmd_cancel = \"취소\";\n",
    "xe.cmd_confirm = \"확인\";\n",
    "xe.msg_no_root = \"루트는 선택 할 수 없습니다.\";\n",
    "xe.msg_no_shortcut = \"바로가기는 선택 할 수 없습니다.\";\n",
    "xe.msg_select_menu = \"대상 메뉴 선택\";\n",
    "//]]>\n",
    "```   \n",
    "   * 순수 텍스트 문자열: 없음\n",
    "   \n",
    "* 단어를 나누는 기준은 오로지 공백문자 (whitespace)이다.   \n",
    "* 즉, 위 순수 텍스트 문자열인 \"로그인 유지\"에서 분리한 단어는 \"로그인\"과 \"유지\"이다.   \n",
    "* 중복을 고려하지 않고 무조건 모든 단어의 개수를 세어서 출력한다.   \n",
    "* 본 숙제를 위하여 HTML 파싱과 관련된 모듈 (예. BeautifulSoup) 사용 금지   \n",
    "* 다음은 URL로 지정된 웹페이지를 특정 문자열로 가져오는 코드이다.   \n",
    "* 즉, 숙제 코드는 아래 코드로 부터 시작해야 한다.   \n",
    "* 아래 코드 수행시 requests 모듈이 존재하지 않는 에러가 발생하면 command 창에서 다음 코드 입력하여 requests 모듈 설치후 아래 코드 수행   \n",
    "> pip install requests"
   ]
  },
  {
   "cell_type": "code",
   "execution_count": null,
   "metadata": {},
   "outputs": [],
   "source": [
    "import requests\n",
    "\n",
    "# 예시 주소\n",
    "# 1. naver = 'https://www.naver.com/'\n",
    "# 2. Link@Koreatech = 'http://link.koreatech.ac.kr/menu/courses'\n",
    "\n",
    "req = requests.get('https://www.naver.com/')\n",
    "source = req.text\n",
    "# print(source)\n",
    "start = 0\n",
    "end = 0\n",
    "scriptStart = 0\n",
    "scriptEnd = 0\n",
    "styleStart = 0\n",
    "styleEnd = 0\n",
    "urlStart = 0\n",
    "urlEnd = 0\n",
    "l = []\n",
    "escape = ['\\n', '\\t', ' ', '@', '\\\\']\n",
    "\n",
    "for i in range(0, len(source)):\n",
    "    if source[i] == '<':\n",
    "        if source[i:i + 7] == '<script':\n",
    "            scriptStart = i\n",
    "        elif source[i:i + 9] == '</script>':\n",
    "            scriptEnd = i\n",
    "        elif source[i:i + 6] == '<style':\n",
    "            styleStart = i\n",
    "        elif source[i:i + 8] == '</style>':\n",
    "            styleEnd = i\n",
    "        elif source[i:i + 4] == '<url':\n",
    "            urlStart = i\n",
    "        elif source[i:i + 6] == '</url>':\n",
    "            urlEnd = i\n",
    "        else:\n",
    "            if not (scriptStart < i < scriptEnd or styleStart < i < styleEnd or urlStart < i < urlEnd):\n",
    "                start = i\n",
    "        if end > 0 and (start > scriptEnd or start > styleEnd or start > urlEnd):\n",
    "            s = source[end + 1:start]\n",
    "\n",
    "            if len(s) > 0 and not (s[0] in escape):\n",
    "                l.append(s)\n",
    "        for j in range(i + 1, len(source)):\n",
    "            if scriptStart > 0 or styleStart > 0 or urlStart > 0:\n",
    "                if source[j] == '>' and (scriptEnd > scriptStart or styleEnd > scriptEnd or urlEnd > urlStart):\n",
    "                    end = j\n",
    "                    break\n",
    "            else:\n",
    "                if source[j] == '>' and (scriptEnd == 0 or styleEnd == 0 or urlStart == 0):\n",
    "                    end = j\n",
    "                    break\n",
    "wordlist = []\n",
    "for i in range(len(l)):\n",
    "    print(l[i], end=\",\")\n",
    "    wordlist += l[i].split()\n",
    "print()\n",
    "print(len(wordlist))"
   ]
  },
  {
   "cell_type": "code",
   "execution_count": 2,
   "metadata": {},
   "outputs": [],
   "source": [
    "import requests\n",
    "\n",
    "# 예시 주소\n",
    "# 1. naver = 'https://www.naver.com/'\n",
    "# 2. Link@Koreatech = 'http://link.koreatech.ac.kr/menu/courses'\n",
    "\n",
    "req = requests.get('http://link.koreatech.ac.kr/menu/courses')\n",
    "source = req.text\n",
    "# print(source)\n",
    "start = 0\n",
    "end = 0\n",
    "scriptStart = 0\n",
    "scriptEnd = 0\n",
    "styleStart = 0\n",
    "styleEnd = 0\n",
    "urlStart = 0\n",
    "urlEnd = 0\n",
    "l = []\n",
    "escape = ['\\n', '\\t', ' ', '@', '\\\\']\n",
    "\n",
    "for i in range(0, len(source)):\n",
    "    if source[i] == '<':\n",
    "        if source[i:i + 7] == '<script':\n",
    "            scriptStart = i\n",
    "        elif source[i:i + 9] == '</script>':\n",
    "            scriptEnd = i\n",
    "        elif source[i:i + 6] == '<style':\n",
    "            styleStart = i\n",
    "        elif source[i:i + 8] == '</style>':\n",
    "            styleEnd = i\n",
    "        elif source[i:i + 4] == '<url':\n",
    "            urlStart = i\n",
    "        elif source[i:i + 6] == '</url>':\n",
    "            urlEnd = i\n",
    "        else:\n",
    "            if not (scriptStart < i < scriptEnd or styleStart < i < styleEnd or urlStart < i < urlEnd):\n",
    "                start = i\n",
    "        if end > 0 and (start > scriptEnd or start > styleEnd or start > urlEnd):\n",
    "            s = source[end + 1:start]\n",
    "\n",
    "            if len(s) > 0 and not (s[0] in escape):\n",
    "                l.append(s)\n",
    "        for j in range(i + 1, len(source)):\n",
    "            if scriptStart > 0 or styleStart > 0 or urlStart > 0:\n",
    "                if source[j] == '>' and (scriptEnd > scriptStart or styleEnd > scriptEnd or urlEnd > urlStart):\n",
    "                    end = j\n",
    "                    break\n",
    "            else:\n",
    "                if source[j] == '>' and (scriptEnd == 0 or styleEnd == 0 or urlStart == 0):\n",
    "                    end = j\n",
    "                    break\n",
    "wordlist = []\n",
    "for i in range(len(l)):\n",
    "    print(l[i], end=\",\")\n",
    "    wordlist += l[i].split()\n",
    "print()\n",
    "print(len(wordlist))"
   ]
  },
  {
   "cell_type": "markdown",
   "metadata": {},
   "source": [
    "#### 코드설명\n",
    "request 라이브러리를 통해 입력받은 link의 html 코드를 가져온 후 이를 텍스트로 변환하여 source에 저장합니다.   \n",
    "그리고 0부터 len(source)까지 반복하여 html 태그들을 필터링할 예정입니다.   \n",
    "만약 source[i] == '<' 이면 html 태그가 시작한다는 것을 알 수 있습니다.    \n",
    "그러나 이때 몇가지 예외가 존재했습니다.    \n",
    "```<script> , <style>``` 등 과 같은 태그들은 여는 태그와 닫는 태그 사이에 문자열이 아닌 코드가 들어갔습니다.   \n",
    "그래서 이들의 위치를 기억하기 위해 scriptStart, scriptEnd, styleStart, styleEnd 등과 같은 변수를 설정했습니다.    \n",
    "그리고 이런 태그가 아닐 경우에는 start에 해당 인덱스를 저장했습니다.    \n",
    "그리고 start를 찾으면 html 태그를 닫는 '>'을 찾아줍니다.   \n",
    "이때 문자열은 '>'과 '<' 사이에 문자열이 들어가게 됨으로 이전 end에서 현재 start를 알게되면 문자열을 슬라이싱 할 수 있습니다.   \n",
    "그래서 end>0 이고 start가 script 또는 style 문에서 빠져 나오면 source를 슬라이싱하여 s에 저장해줍니다.   \n",
    "그리고 이런 s가 공백문자 또는 이스케이프 시퀀스이면 추가를 해줄 필요가 없기 때문에 해당경우를 제외하고 l 리스트에 추가해줍니다.   \n",
    "그리고 다음 end를 찾기 위해 j for문을 시작하게 되고, 이때 start의 지점에서 시작합니다.    \n",
    "end또한 각 태그를 탈출하고 난 '>' 값을 찾기 위해 scriptStart 와 styleStart, urlStart 값에 따라 경우가 나뉩니다.    \n",
    "그리고 다음 '>'를 찾았으면 더이상 찾을 필요가 없음으로 break를 하여 for문을 종료합니다.   \n",
    "그렇게 모든 문자들에 대해 계산을 하고, l 리스트에 있는 요소들마다 공백문자(스페이스바)로 나누어 word리스트에 저장을 합니다.   \n",
    "그리고 wordlist의 길이를 측정하여 단어의 수를 셉니다.\n",
    "---------------------------------------------------"
   ]
  },
  {
   "cell_type": "markdown",
   "metadata": {},
   "source": [
    "### 소감\n",
    "> 마지막 [Incremental Project 문제]를 풀면서 다양한 HTML 태그들에 대해 공부를 하는 시간을 가질 수 있었다는 점에서 좋았습니다.   \n",
    "> 그러나 문자열을 찾는 과정에서 코드 안에 있는 부등호 > , < 와 html 코드의 > , < 를 구분하는 데 있어 어려움을 겪었습니다.    \n",
    "> 아직도 저런 부분에 있어 오류를 수정하지 못해 아쉬웠습니다.    \n",
    "> 그리고 다양한 문자열 처리 방법을 이론만 듣다가 직접 이렇게 써보니 매우 편리하고 어떻게 사용하는지 이해가 잘 되었습니다."
   ]
  }
 ],
 "metadata": {
  "kernelspec": {
   "display_name": "Python 3",
   "language": "python",
   "name": "python3"
  },
  "language_info": {
   "codemirror_mode": {
    "name": "ipython",
    "version": 3
   },
   "file_extension": ".py",
   "mimetype": "text/x-python",
   "name": "python",
   "nbconvert_exporter": "python",
   "pygments_lexer": "ipython3",
   "version": "3.8.5"
  }
 },
 "nbformat": 4,
 "nbformat_minor": 5
}
