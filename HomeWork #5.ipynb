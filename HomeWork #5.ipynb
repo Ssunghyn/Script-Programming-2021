{
 "cells": [
  {
   "cell_type": "markdown",
   "id": "275d59f6",
   "metadata": {},
   "source": [
    "# 5주차 스크립트 과제\n",
    "> 학번 : 2018136137   \n",
    "> 이름 : 한성현"
   ]
  },
  {
   "cell_type": "markdown",
   "id": "4aa52ee1",
   "metadata": {},
   "source": [
    "## 1. 클래스와 모듈의 공통점과 차이점에 대해 설명하시오.\n",
    "------------------------"
   ]
  },
  {
   "cell_type": "markdown",
   "id": "8386bd05",
   "metadata": {},
   "source": [
    "클래스와 모듈의 공통점으로는 클래스와 모듈 내에 함수 및 변수를 포함할 수 있습니다.   \n",
    "차이점으로는 영역 차이가 있습니다.    \n",
    "모듈같은 경우 파일 단위로 이름 공간을 구성되지만,   \n",
    "클래스는 클래스 영역 내에 이름 공간을 구성합니다.    "
   ]
  },
  {
   "cell_type": "markdown",
   "id": "60e80f17",
   "metadata": {},
   "source": [
    "## 2. 다형성에 대해 설명하고 다형성을 보여주는 자신만의 파이썬 코드 예제를 제시하시오.\n",
    "--------------------------------------"
   ]
  },
  {
   "cell_type": "markdown",
   "id": "73afb2b1",
   "metadata": {},
   "source": [
    "다형성이란 상속 관계 내의 다른 클래스들의 인스턴스들이 같은 멤버 함수 호출에 대해 각각 다르게 반응하도록 하는 기능입니다."
   ]
  },
  {
   "cell_type": "code",
   "execution_count": 2,
   "id": "155380e2",
   "metadata": {},
   "outputs": [],
   "source": [
    "class ProgrammingLanguage:\n",
    "    def __init__(self,name,OOP=False):\n",
    "        self.name = name\n",
    "        self.OOP = OOP\n",
    "\n",
    "    def __str__(self):\n",
    "        return \"I am {}\".format(self.name)\n",
    "\n",
    "    def isOOP(self):\n",
    "        return self.OOP\n",
    "\n",
    "\n",
    "class C(ProgrammingLanguage):\n",
    "    def __init__(self):\n",
    "        super().__init__('C Language')\n",
    "\n",
    "\n",
    "class JAVA(ProgrammingLanguage):\n",
    "    def __init__(self):\n",
    "        super().__init__('JAVA Language',True)\n",
    "\n",
    "    def __str__(self):\n",
    "        return super().__str__()+\" and I'm OOP!\"\n",
    "\n",
    "class Python(ProgrammingLanguage):\n",
    "    def __init__(self):\n",
    "        super().__init__('Python Language',True)\n",
    "\n",
    "    def __str__(self):\n",
    "        return super().__str__()+\" and I'm Script Language!\""
   ]
  },
  {
   "cell_type": "code",
   "execution_count": 3,
   "id": "13835c91",
   "metadata": {},
   "outputs": [
    {
     "name": "stdout",
     "output_type": "stream",
     "text": [
      "I am C Language\n",
      "I am JAVA Language and I'm OOP!\n",
      "I am Python Language and I'm Script Language!\n"
     ]
    }
   ],
   "source": [
    "c = C()\n",
    "java = JAVA()\n",
    "python = Python()\n",
    "\n",
    "print(c)\n",
    "print(java)\n",
    "print(python)"
   ]
  },
  {
   "cell_type": "markdown",
   "id": "53ac5755",
   "metadata": {},
   "source": [
    "## 3.다음 각 요구사항 모두를 만족시키는 Counter 클래스를 코딩하시오 (정답을 각 요구사항별로 입력할 필요 없이 3번 문제에 대해 1개의 클래스 정의 코드를 제시하면 된다.)\n",
    "-----------------------------------------------------------\n",
    "* 요구사항 1. 생성자에 count 값과 step 값을 인자로 받을 수 있다.   \n",
    "    * count: Counter 인스턴스가 지니는 초기 정수 값   <br>\n",
    "    * step: Counter 인스턴스의 count가 증가되는 증분 (defalt 값: 1) <br>   \n",
    "    > \\>>> c = Counter(10) <br>\n",
    "    > \\>>> d = Counter(10, 2)\n",
    "\n",
    "* 요구사항 2. 다음과 같이 Counter의 인스턴스를 출력을 해주는 __str__() 메소드를 Counter 클래스 내에 구현하시오.   \n",
    "> \\>>> print(c)     \n",
    "> [Count (step: 1)] 10     \n",
    "> \\>>> print(d)    \n",
    "> [Count (step: 2)] 10   \n",
    "\n",
    "* 요구사항 3. 다음과 같이 step에 주어진 증분만큼 count를 증가시키는 incr() 메소드를 Counter 클래스 내에 구현하시오.    \n",
    "\n",
    "> \\>>> c.incr()   \n",
    "> \\>>> d.incr()   \n",
    "> \\>>> print(c)   \n",
    "> [Count (step: 1)] 11   \n",
    "> \\>>> print(d)    \n",
    "> [Count (step: 2)] 12   \n",
    "\n",
    "* 요구사항 4. Counter 클래스 내에 관련 메소드를 추가하여 인스턴스 객체를 직접 호출(call)할 수 있도록 하시오. 인스턴스 객체를 직접 호출했을 때에 내부적으로 incr() 메소드를 호출하는 방법으로 구현하시오.    \n",
    "\n",
    "> \\>>> c()   \n",
    "> \\>>> d()   \n",
    "> \\>>> print(c)   \n",
    "> [Count (step: 1)] 12   \n",
    "> \\>>> print(d)   \n",
    "> [Count (step: 2)] 14   \n",
    "\n",
    "* 요구사항 5. 다음과 같은 두 개의 산술 연산 (+, -)이 수행될 수 있도록 Counter 클래스 내에 관련 메소드를 추가하시오.\n",
    "\n",
    "> \\>>> c = c + 5    \n",
    "> \\>>> d = d - 5    \n",
    "> \\>>> print(c)    \n",
    "> [Count (step: 1)] 17   \n",
    "> \\>>> print(d)    \n",
    "> [Count (step: 2)] 9   \n",
    "\n",
    "* 요구사항 6. 다음과 같은 관계연산 (>, <, ==)이 수행될 수 있도록 Counter 클래스 내에 관련 메소드를 추가하시오.\n",
    "\n",
    "> \\>>> print(c > 10)   \n",
    "> True    \n",
    "> \\>>> print(d > 10)   \n",
    "> False    \n",
    "> \\>>> print(c < 10)   \n",
    "> False    \n",
    "> \\>>> print(d < 10)   \n",
    "> True   \n",
    "> \\>>> print(c == 17)   \n",
    "> True    \n",
    "> \\>>> print(d != 9)   \n",
    "> False   "
   ]
  },
  {
   "cell_type": "code",
   "execution_count": 4,
   "id": "e73a272a",
   "metadata": {},
   "outputs": [],
   "source": [
    "class Counter:\n",
    "    def __init__(self, count, step=1):\n",
    "        self.count = count\n",
    "        self.step = step\n",
    "\n",
    "    def __str__(self):\n",
    "        return \"[Count(step:{})] {}\".format(self.step, self.count)\n",
    "\n",
    "    def incr(self):\n",
    "        self.count += self.step\n",
    "\n",
    "    def __call__(self, *args, **kwargs):\n",
    "        self.incr()\n",
    "\n",
    "    def __add__(self, other):\n",
    "        return Counter(self.count + other,self.step)\n",
    "\n",
    "    def __sub__(self, other):\n",
    "        return Counter(self.count - other,self.step)\n",
    "\n",
    "    def __eq__(self, other):\n",
    "        return self.count == other\n",
    "\n",
    "    def __gt__(self, other):\n",
    "        return self.count > other\n",
    "\n",
    "    def __lt__(self, other):\n",
    "        return self.count < other"
   ]
  },
  {
   "cell_type": "code",
   "execution_count": 5,
   "id": "3513a1d2",
   "metadata": {},
   "outputs": [
    {
     "name": "stdout",
     "output_type": "stream",
     "text": [
      "[Count(step:1)] 10\n",
      "[Count(step:2)] 10\n"
     ]
    }
   ],
   "source": [
    "c = Counter(10)\n",
    "d = Counter(10, 2)\n",
    "\n",
    "print(c)\n",
    "print(d)"
   ]
  },
  {
   "cell_type": "code",
   "execution_count": 6,
   "id": "fa64efe2",
   "metadata": {},
   "outputs": [
    {
     "name": "stdout",
     "output_type": "stream",
     "text": [
      "[Count(step:1)] 11\n",
      "[Count(step:2)] 12\n"
     ]
    }
   ],
   "source": [
    "c.incr()\n",
    "d.incr()\n",
    "print(c)\n",
    "print(d)"
   ]
  },
  {
   "cell_type": "code",
   "execution_count": 7,
   "id": "688c5ce7",
   "metadata": {},
   "outputs": [
    {
     "name": "stdout",
     "output_type": "stream",
     "text": [
      "[Count(step:1)] 12\n",
      "[Count(step:2)] 14\n"
     ]
    }
   ],
   "source": [
    "c()\n",
    "d()\n",
    "print(c)\n",
    "print(d)"
   ]
  },
  {
   "cell_type": "code",
   "execution_count": 8,
   "id": "6abc09c7",
   "metadata": {},
   "outputs": [
    {
     "name": "stdout",
     "output_type": "stream",
     "text": [
      "[Count(step:1)] 17\n",
      "[Count(step:2)] 9\n"
     ]
    }
   ],
   "source": [
    "c = c + 5\n",
    "d = d - 5\n",
    "print(c)\n",
    "print(d)"
   ]
  },
  {
   "cell_type": "code",
   "execution_count": 9,
   "id": "f9f6a66b",
   "metadata": {},
   "outputs": [
    {
     "name": "stdout",
     "output_type": "stream",
     "text": [
      "True\n",
      "False\n",
      "False\n",
      "True\n",
      "True\n",
      "False\n"
     ]
    }
   ],
   "source": [
    "print(c > 10)\n",
    "print(d > 10)\n",
    "print(c < 10)\n",
    "print(d < 10)\n",
    "print(c == 17)\n",
    "print(d != 9)"
   ]
  },
  {
   "cell_type": "markdown",
   "id": "0a2c2af6",
   "metadata": {},
   "source": [
    "### 코드 설명\n",
    "요구사항 1을 충족시키기 위해 생성자 \\_\\_init__ 함수에 count와 step을 인자로 받게 하였고, 이때 step은 default 인자이므로 step=1을 하여 default 인자화 시켜주었습니다. 그리고 인자로 받은 값들을 인스턴스의 self.count, self.step 멤버에 대입했습니다.     \n",
    "<br>\n",
    "요구사항 2를 충족시키기 위해 \\_\\_str__ 함수를 정의했습니다. 이때 \"[Count (step: 1)] 10\"이라는 형태가 정해져 있기 때문에  return \"[Count(step:{})] {}\".format(self.step, self.count)하여 정의했습니다.   \n",
    "<br>\n",
    "요구사항 3을 충족시키기 위해 incr() 함수를 정의하였는데, 이 함수는 인스턴스의 count 값에 step값을 더하는 함수로 인스턴스가 갖고 있는 count 값에 인스턴스가 갖고 있는 step 값을 더하여 다시 count 값에 저장했습니다.   \n",
    "<br>\n",
    "요구사항 4를 충족시키기 위해 인스턴스 객체가 호출될 때 호출되는 함수인 \\_\\_call__ 함수를 정의하여 호출될때 자동적으로 incr()함수가 실행하기 위해 \\_\\_call__ 함수에 incr()함수를 호출했습니다.   \n",
    "<br>\n",
    "요구사항 5를 충족시키기 위해 객체의 증감연산자를 정의해주는 \\_\\_add__, \\_\\_sub__ 함수를 정의하여 객체들의 증감연산이 가능하도록 했습니다. 이때 객체의 증감을 객체 뒤에 오는 수만큼 self.count에 증감해주는 연산임으로 self.count에 해당 수만큼 증감을 시켜준 후 새로운 Count 클래스의 인스턴스를 생성하여 반환해주었습니다.   \n",
    "<br>\n",
    "요구사항 6을 충족시키기 위해 관계연산 >,<,== 을 지원하는 메소드인 \\_\\_gt__ , \\_\\_lt__ . \\_\\_eq__ 메소드를 정의하여 요구사항을 충족시켰습니다. 이때 값의 비교는 self.count를 기준으로 비교되어지기 때문에 other 값과 self.count를 비교한 결과를 반환하여 해겼습니다."
   ]
  },
  {
   "cell_type": "markdown",
   "id": "201a6f14",
   "metadata": {},
   "source": [
    "## 4. 다음은 내장 자료형 list를 서브클래싱하여 만든 MySet 클래스 정의 내용이다. 다음 클래스 정의에서 __init__(), __str()__, elimicate_duplicate()의 세 개의 메소드 코드 내용을 자신이 다른 사람에게 가르친다고 생각하며 설명해보시오.\n",
    "------------------------------"
   ]
  },
  {
   "cell_type": "code",
   "execution_count": 10,
   "id": "ab63547d",
   "metadata": {},
   "outputs": [
    {
     "name": "stdout",
     "output_type": "stream",
     "text": [
      "MySet: {1 ,2 ,3}\n",
      "MySet: {2 ,3 ,4 ,5 ,6 ,7 ,8 ,9}\n"
     ]
    }
   ],
   "source": [
    "class MySet(list):\n",
    "    def __init__(self, l):\n",
    "        for e in l:\n",
    "            self.append(e)\n",
    "        MySet.eliminate_duplicate(self)\n",
    "    \n",
    "    def __str__(self):\n",
    "        result = \"MySet: {\"\n",
    "        for e in self:\n",
    "            result = result + str(e) + \" ,\"\n",
    "        result = result[0:len(result)-2] + \"}\"\n",
    "        return result\n",
    "\n",
    "    @staticmethod    \n",
    "    def eliminate_duplicate(l):\n",
    "        s = []\n",
    "        for e in l:\n",
    "            if e not in s:\n",
    "                s.append(e)\n",
    "        l[:] = []\n",
    "        for e in s:\n",
    "            l.append(e)\n",
    "\n",
    "    \n",
    "if __name__ == \"__main__\":\n",
    "    s = MySet([1, 2, 2, 3])\n",
    "    print(s)\n",
    "    t = MySet([2, 3, 4, 5, 6, 7, 8, 8, 8, 8, 8, 9])\n",
    "    print(t)"
   ]
  },
  {
   "cell_type": "markdown",
   "id": "7d3bd6d9",
   "metadata": {},
   "source": [
    "MySet을 생성할 시 초기화 할 리스트 l을 인수로 받아옵니다. 그리고 리스트 l의 요소들을 하나씩 꺼내    \n",
    "list를 상속받는 MySet에 append를 시켜줍니다. 그리고 함수이기 때문에 중복인 값이 있으면 모두 제거해줍니다.    \n",
    "<br>\n",
    "MySet을 print()함수를 사용하여 출력할 경우 집합의 상태를 str 자료형으로 나타내주는 함수입니다.   \n",
    "처음 result에 정해진 틀인 \"MySet: {\"을 넣어 놓습니다. 그리고 본인에게서 요소를 하나씩 꺼내 str로 변환하고 result에   \n",
    "하나씩 더해줍니다. 그리고 모든 요소들을 str형으로 변환해주었으면, 마지막 대괄호를 제거하고 result에 중괄호를 추가해 준 후   \n",
    "result 값을 반환해줍니다.   \n",
    "<br>\n",
    "@staticmethod 어노테이션을 이용하여 eliminate_duplicate 메소드를 static 메소드로 만들어 줍니다.   \n",
    "그리고 인수로 받은 리스트 l에 대해 요소들을 하나씩 꺼내와 새로 생성한 리스트 s에 l에서 꺼낸 요소 e가 존재하지 않으면   \n",
    "리스트 s에 추가를 하고, e 값이 리스트 s 내부에 있다면, 추가하지 않습니다. 그리고 인수로 받은 리스트 l을 빈 리스트로 만들어 준 후   \n",
    "s 에 있는 요소를 리스트 l에 추가해줌으로써 리스트 l의 중복 요소를 제거합니다."
   ]
  },
  {
   "cell_type": "markdown",
   "id": "d286fd30",
   "metadata": {},
   "source": [
    "## 5. 4번 문제에 정의된 MySet 클래스에 메소드를 추가하여 다음 각 요구사항 모두를 만족시키는 코딩을 제시하시오.\n",
    "--------------------------------------------\n",
    "정답을 각 요구사항별로 입력할 필요 없이 요구사항 3개 전체에 대해 1개의 MySet 클래스 정의 코드를 제시하고 주석등으로 해당 코드를 설명한다.   \n",
    "* 요구사항 1. | 연산으로 두 집합의 합집합을 반환한다.\n",
    "\n",
    "> \\>>> u = s | t   \n",
    "> \\>>> print(u)   \n",
    "> MySet: {1, 2, 3, 4, 5, 6, 7, 8, 9}   \n",
    "\n",
    "* 요구사항 2. & 연산으로 두 집합의 교집합을 반환한다.\n",
    "\n",
    "> \\>>> u = s & t   \n",
    "> \\>>> print(u)   \n",
    "> MySet: {2, 3}  \n",
    "\n",
    "* 요구사항 3. - 연산으로 두 집합의 차집합을 반환한다.\n",
    "\n",
    "> \\>>> s = MySet([1, 2, 3])   \n",
    "> \\>>> t = MySet([3, 4, 5])   \n",
    "> \\>>> u = s - t   \n",
    "> \\>>> print(u)   \n",
    "> MySet: {1, 2}   "
   ]
  },
  {
   "cell_type": "code",
   "execution_count": 11,
   "id": "c0134852",
   "metadata": {},
   "outputs": [],
   "source": [
    "class MySet(list):\n",
    "    def __init__(self, l):\n",
    "        for e in l:\n",
    "            self.append(e)\n",
    "        MySet.eliminate_duplicate(self)\n",
    "\n",
    "    def __str__(self):\n",
    "        result = \"MySet: {\"\n",
    "        for e in self:\n",
    "            result = result + str(e) + \" ,\"\n",
    "        result = result[0:len(result) - 2] + \"}\"\n",
    "        return result\n",
    "\n",
    "    @staticmethod\n",
    "    def eliminate_duplicate(l):\n",
    "        s = []\n",
    "        for e in l:\n",
    "            if e not in s:\n",
    "                s.append(e)\n",
    "        l[:] = []\n",
    "        for e in s:\n",
    "            l.append(e)\n",
    "\n",
    "    def __or__(self, other):\n",
    "        union = []\n",
    "        for i in self:\n",
    "            union.append(i)\n",
    "        for j in other:\n",
    "            union.append(j)\n",
    "\n",
    "        return MySet(union)\n",
    "\n",
    "    def __and__(self, other):\n",
    "        intersection = []\n",
    "        for i in self:\n",
    "            if i in other:\n",
    "                intersection.append(i)\n",
    "        return MySet(intersection)\n",
    "\n",
    "    def __sub__(self, other):\n",
    "        different = []\n",
    "        for i in self:\n",
    "            if not (i in other):\n",
    "                different.append(i)\n",
    "        return MySet(different)"
   ]
  },
  {
   "cell_type": "code",
   "execution_count": 12,
   "id": "1224a20b",
   "metadata": {},
   "outputs": [
    {
     "name": "stdout",
     "output_type": "stream",
     "text": [
      "MySet: {1 ,2 ,3}\n",
      "MySet: {2 ,3 ,4 ,5 ,6 ,7 ,8 ,9}\n",
      "MySet: {1 ,2 ,3 ,4 ,5 ,6 ,7 ,8 ,9}\n",
      "MySet: {2 ,3}\n",
      "MySet: {1 ,2}\n"
     ]
    }
   ],
   "source": [
    "if __name__ == \"__main__\":\n",
    "    s = MySet([1, 2, 2, 3])\n",
    "    print(s)\n",
    "    t = MySet([2, 3, 4, 5, 6, 7, 8, 8, 8, 8, 8, 9])\n",
    "    print(t)\n",
    "    u = s | t\n",
    "    print(u)\n",
    "    u = s & t\n",
    "    print(u)\n",
    "    s = MySet([1, 2, 3])\n",
    "    t = MySet([3, 4, 5])\n",
    "    u = s - t\n",
    "    print(u)"
   ]
  },
  {
   "cell_type": "markdown",
   "id": "f7f90c3b",
   "metadata": {},
   "source": [
    "### 코드 설명\n",
    "요구사항 1. | 연산으로 두 집합의 합집합을 반환하기 위해서 | 연산자를 사용자 정의를 해야했고, 그래서 \\_\\_or__ 함수를 정의했습니다. 이때 | 연산자를 통해 두 MySet집합의 합집합을 구현해야 함으로, union이라는 빈 리스트를 생성한 후 자기 자신의 요소들을 다 추가한 후 other의 요소들을 다 추가하여 새로운 union리스트로 초기화한 MySet 클래스를 반환하여 요구사항을 만족시켰습니다.   \n",
    "<br>\n",
    "요구사항 2. & 연산으로 두 집합의 교집합을 반환하기 위해서 & 연산자를 사용자 정의를 해야 했습니다. 그래서 \\_\\_and__ 함수를 정의하여 MySet 클래스의 &연산을 요구사항처럼 정의하였습니다. 이때 MySet 클래스의 &연산은 자신과 다른 집합의 교집합을 의미함으로, 자기 자신의 요소들을 하나씩 불러온 후 만약 해당 요소가 다른 집합에 존재하면 intersection 리스트에 추가한 후 해당 리스트로 초기화한 MySet 클래스를 반환했습니다.   \n",
    "<br>\n",
    "요구사항 3. -연산으로 두 집합의 차집합을 반환하기 위해서 -연산자를 사용자 정의할 필요가 있었습니다. 그래서 \\_\\_sub__ 함수를 정의하여 MySet 클래스의 -연산을 요구사항처럼 실행되도록 했습니다. 이때 MySet 클래스의 -연산은 두 집합의 차집합을 구하는 것임으로 자기 자신의 요소를 하나씩 불러온 후 만약 해당요소가 다른 집합에 존자하지 않으면 different 리스트에 추가하였고, 모든 요소에 대해 검사를 하고난 후에 different 리스트로 초기화한 MySet 클래스를 반환함으로써 요구사항을 충족시켰습니다."
   ]
  },
  {
   "cell_type": "markdown",
   "id": "51efec3b",
   "metadata": {},
   "source": [
    "## 6. 5번 문제에서 정의한 MySet 클래스에 대해 다음 예제를 수행하면 오류없이 올바르게 동작하는 것을 확인할 수 있다. 다음 예제 내에 있는 len(), bool() 내장함수와 in 키워드 사용 예제가 별다른 메소드 정의를 하지 않았는 데도 올바르게 수행되는 이유를 설명하시오.\n",
    "---------------------------------------------------"
   ]
  },
  {
   "cell_type": "code",
   "execution_count": 13,
   "id": "725b01d0",
   "metadata": {},
   "outputs": [
    {
     "name": "stdout",
     "output_type": "stream",
     "text": [
      "6\n",
      "True\n",
      "True\n"
     ]
    }
   ],
   "source": [
    "s = MySet([1,2,3,4,5,6])\n",
    "print(len(s))\n",
    "print(bool(s))\n",
    "print(2 in s)"
   ]
  },
  {
   "cell_type": "markdown",
   "id": "c6fdbafc",
   "metadata": {},
   "source": [
    "그 이유는 MySet 클래스가 list 클래스를 상속받고 있기 때문에 MySet 클래스에 len(), bool(), in 키워드를   \n",
    "정의하지 않았더라도 super 클래스의 함수들이 불러와짐으로 수행될 수 있습니다."
   ]
  },
  {
   "cell_type": "markdown",
   "id": "50d6d82a",
   "metadata": {},
   "source": [
    "## 소감\n",
    "___________________\n",
    "여태까지 Incremental Project 문제를 어떻게든 저 만의 방식으로 해결하여 풀이로 제출을 했으나 이번 Incremental Project 문제를 푸는데 있어서 잘 해결이 되지 않았습니다. 이를 통해 아직은 제가 class와 클래스 메소드에 대해 아직은 이해가 부족하다는 것을 느꼈습니다. 그래서 방학때 파이썬에 대해서 더욱 공부를 하면서 제가 부족하다고 싶었던 부분을 더욱 매꾸고, 이번에 풀지 못한 Incremental Project 문제를 해결해봐야겠다고 느꼈습니다. 이번학기 좋은 강의 해주셔서 감사합니다."
   ]
  }
 ],
 "metadata": {
  "kernelspec": {
   "display_name": "Python 3",
   "language": "python",
   "name": "python3"
  },
  "language_info": {
   "codemirror_mode": {
    "name": "ipython",
    "version": 3
   },
   "file_extension": ".py",
   "mimetype": "text/x-python",
   "name": "python",
   "nbconvert_exporter": "python",
   "pygments_lexer": "ipython3",
   "version": "3.8.8"
  }
 },
 "nbformat": 4,
 "nbformat_minor": 5
}
